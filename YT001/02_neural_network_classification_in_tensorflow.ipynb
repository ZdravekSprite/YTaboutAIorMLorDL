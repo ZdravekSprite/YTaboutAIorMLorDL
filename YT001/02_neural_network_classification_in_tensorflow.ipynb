{
 "cells": [
  {
   "cell_type": "markdown",
   "metadata": {
    "id": "JZNT-Tz4ntRw"
   },
   "source": [
    "# 02. Neural Network Classification with TensorFlow\n",
    "\n",
    "Okay, we've seen how to deal with a regression problem in TensorFlow, let's look at how we can approach a classification problem.\n",
    "\n",
    "A [classification problem](https://en.wikipedia.org/wiki/Statistical_classification) involves predicting whether something is one thing or another.\n",
    "\n",
    "For example, you might want to:\n",
    "* Predict whether or not someone has heart disease based on their health parameters. This is called **binary classification** since there are only two options.\n",
    "* Decide whether a photo of is of food, a person or a dog. This is called **multi-class classification** since there are more than two options.\n",
    "* Predict what categories should be assigned to a Wikipedia article. This is called **multi-label classification** since a single article could have more than one category assigned.\n",
    "\n",
    "In this notebook, we're going to work through a number of different classification problems with TensorFlow. In other words, taking a set of inputs and predicting what class those set of inputs belong to.\n",
    "\n",
    "## What we're going to cover\n",
    "\n",
    "Specifically, we're going to go through doing the following with TensorFlow:\n",
    "- Architecture of a classification model\n",
    "- Input shapes and output shapes\n",
    "  - `X`: features/data (inputs)\n",
    "  - `y`: labels (outputs) \n",
    "    - \"What class do the inputs belong to?\"\n",
    "- Creating custom data to view and fit\n",
    "- Steps in modelling for binary and mutliclass classification\n",
    "  - Creating a model\n",
    "  - Compiling a model\n",
    "    - Defining a loss function\n",
    "    - Setting up an optimizer\n",
    "      - Finding the best learning rate\n",
    "    - Creating evaluation metrics\n",
    "  - Fitting a model (getting it to find patterns in our data)\n",
    "  - Improving a model\n",
    "- The power of non-linearity\n",
    "- Evaluating classification models\n",
    "  - Visualizng the model (\"visualize, visualize, visualize\")\n",
    "  - Looking at training curves\n",
    "  - Compare predictions to ground truth (using our evaluation metrics)\n",
    "\n",
    "## How you can use this notebook\n",
    "\n",
    "You can read through the descriptions and the code (it should all run, except for the cells which error on purpose), but there's a better option.\n",
    "\n",
    "Write all of the code yourself.\n",
    "\n",
    "Yes. I'm serious. Create a new notebook, and rewrite each line by yourself. Investigate it, see if you can break it, why does it break?\n",
    "\n",
    "You don't have to write the text descriptions but writing the code yourself is a great way to get hands-on experience.\n",
    "\n",
    "Don't worry if you make mistakes, we all do. The way to get better and make less mistakes is to **write more code**."
   ]
  },
  {
   "cell_type": "markdown",
   "metadata": {
    "id": "ucRDjFFCJ92X"
   },
   "source": [
    "## Typical architecture of a classification neural network \n",
    "\n",
    "The word *typical* is on purpose.\n",
    "\n",
    "Because the architecture of a classification neural network can widely vary depending on the problem you're working on.\n",
    "\n",
    "However, there are some fundamentals all deep neural networks contain:\n",
    "* An input layer.\n",
    "* Some hidden layers.\n",
    "* An output layer.\n",
    "\n",
    "Much of the rest is up to the data analyst creating the model.\n",
    "\n",
    "The following are some standard values you'll often use in your classification neural networks.\n",
    "\n",
    "| **Hyperparameter** | **Binary Classification** | **Multiclass classification** |\n",
    "| --- | --- | --- |\n",
    "| Input layer shape | Same as number of features (e.g. 5 for age, sex, height, weight, smoking status in heart disease prediction) | Same as binary classification |\n",
    "| Hidden layer(s) | Problem specific, minimum = 1, maximum = unlimited | Same as binary classification |\n",
    "| Neurons per hidden layer | Problem specific, generally 10 to 100 | Same as binary classification |\n",
    "| Output layer shape | 1 (one class or the other) | 1 per class (e.g. 3 for food, person or dog photo) |\n",
    "| Hidden activation | Usually [ReLU](https://www.kaggle.com/dansbecker/rectified-linear-units-relu-in-deep-learning) (rectified linear unit) | Same as binary classification |\n",
    "| Output activation | [Sigmoid](https://en.wikipedia.org/wiki/Sigmoid_function) | [Softmax](https://en.wikipedia.org/wiki/Softmax_function) |\n",
    "| Loss function | [Cross entropy](https://en.wikipedia.org/wiki/Cross_entropy#Cross-entropy_loss_function_and_logistic_regression) ([`tf.keras.losses.BinaryCrossentropy`](https://www.tensorflow.org/api_docs/python/tf/keras/losses/BinaryCrossentropy) in TensorFlow) | Cross entropy ([`tf.keras.losses.CategoricalCrossentropy`](https://www.tensorflow.org/api_docs/python/tf/keras/losses/CategoricalCrossentropy) in TensorFlow) |\n",
    "| Optimizer | [SGD](https://www.tensorflow.org/api_docs/python/tf/keras/optimizers/SGD) (stochastic gradient descent), [Adam](https://www.tensorflow.org/api_docs/python/tf/keras/optimizers/Adam) | Same as binary classification |\n",
    "\n",
    "***Table 1:*** *Typical architecture of a classification network.* ***Source:*** *Adapted from page 295 of [Hands-On Machine Learning with Scikit-Learn, Keras & TensorFlow Book by Aurélien Géron](https://www.oreilly.com/library/view/hands-on-machine-learning/9781492032632/)*\n",
    "\n",
    "Don't worry if not much of the above makes sense right now, we'll get plenty of experience as we go through this notebook.\n",
    "\n",
    "Let's start by importing TensorFlow as the common alias `tf`. For this notebook, make sure you're using version 2.x+."
   ]
  },
  {
   "cell_type": "code",
   "execution_count": null,
   "metadata": {
    "colab": {
     "base_uri": "https://localhost:8080/"
    },
    "id": "IPWQMjYwKpCH",
    "outputId": "037577f1-ed18-4612-82f5-5635d765be4d"
   },
   "outputs": [],
   "source": [
    "import tensorflow as tf\n",
    "print(tf.__version__)"
   ]
  },
  {
   "cell_type": "markdown",
   "metadata": {
    "id": "PEAjPGv8J2K0"
   },
   "source": [
    "## Creating data to view and fit\n",
    "\n",
    "We could start by importing a classification dataset but let's practice making some of our own classification data.\n",
    "\n",
    "> 🔑 **Note:** It's a common practice to get you and model you build working on a toy (or simple) dataset before moving to your actual problem. Treat it as a rehersal experiment before the actual experiment(s).\n",
    "\n",
    "Since classification is predicting whether something is one thing or another, let's make some data to reflect that.\n",
    "\n",
    "To do so, we'll use Scikit-Learn's [`make_circles()`](https://scikit-learn.org/stable/modules/generated/sklearn.datasets.make_circles.html#sklearn.datasets.make_circles) function.\n",
    "\n"
   ]
  },
  {
   "cell_type": "code",
   "execution_count": null,
   "metadata": {},
   "outputs": [],
   "source": [
    "# pip install -U scikit-learn\n",
    "!pip install scikit-learn"
   ]
  },
  {
   "cell_type": "markdown",
   "metadata": {},
   "source": [
    "### In order to check your installation you can use"
   ]
  },
  {
   "cell_type": "code",
   "execution_count": null,
   "metadata": {},
   "outputs": [],
   "source": [
    "# to see which version and where scikit-learn is installed\n",
    "!python -m pip show scikit-learn"
   ]
  },
  {
   "cell_type": "code",
   "execution_count": null,
   "metadata": {},
   "outputs": [],
   "source": [
    "# to see all packages installed in the active virtualenv\n",
    "!python -m pip freeze"
   ]
  },
  {
   "cell_type": "code",
   "execution_count": null,
   "metadata": {},
   "outputs": [],
   "source": [
    "!python -c \"import sklearn; sklearn.show_versions()\""
   ]
  },
  {
   "cell_type": "code",
   "execution_count": null,
   "metadata": {
    "id": "7dT80sWqLYPf"
   },
   "outputs": [],
   "source": [
    "from sklearn.datasets import make_circles\n",
    "\n",
    "# Make 1000 examples\n",
    "n_samples = 1000\n",
    "\n",
    "# Create circles\n",
    "X, y = make_circles(n_samples, \n",
    "                    noise=0.03, \n",
    "                    random_state=42)"
   ]
  },
  {
   "cell_type": "markdown",
   "metadata": {
    "id": "CclQDWU8c69i"
   },
   "source": [
    "Wonderful, now we've created some data, let's look at the features (`X`) and labels (`y`)."
   ]
  },
  {
   "cell_type": "code",
   "execution_count": null,
   "metadata": {
    "colab": {
     "base_uri": "https://localhost:8080/"
    },
    "id": "Gf47AUmxLYMj",
    "outputId": "45a06a78-1430-4dac-ea4a-19a608899eac"
   },
   "outputs": [],
   "source": [
    "# Check out the features\n",
    "X"
   ]
  },
  {
   "cell_type": "code",
   "execution_count": null,
   "metadata": {
    "colab": {
     "base_uri": "https://localhost:8080/"
    },
    "id": "FkgZlGstK572",
    "outputId": "f4c3018c-a891-4e55-b56c-8f0d83d75f9f"
   },
   "outputs": [],
   "source": [
    "# See the first 10 labels\n",
    "y[:10]"
   ]
  },
  {
   "cell_type": "markdown",
   "metadata": {
    "id": "DcBi6A1PeC4s"
   },
   "source": [
    "Okay, we've seen some of our data and labels, how about we move towards visualizing?\n",
    "\n",
    "> 🔑 **Note:** One important step of starting any kind of machine learning project is to [become one with the data](https://karpathy.github.io/2019/04/25/recipe/). And one of the best ways to do this is to visualize the data you're working with as much as possible. The data explorer's motto is \"visualize, visualize, visualize\".\n",
    "\n",
    "We'll start with a DataFrame."
   ]
  },
  {
   "cell_type": "code",
   "execution_count": null,
   "metadata": {
    "colab": {
     "base_uri": "https://localhost:8080/",
     "height": 201
    },
    "id": "SzQ7X9QgMGpq",
    "outputId": "882cfb55-b9db-487c-a9a8-0052913d7310"
   },
   "outputs": [],
   "source": [
    "# Make dataframe of features and labels\n",
    "import pandas as pd\n",
    "circles = pd.DataFrame({\"X0\":X[:, 0], \"X1\":X[:, 1], \"label\":y})\n",
    "circles.head()"
   ]
  },
  {
   "cell_type": "markdown",
   "metadata": {
    "id": "1ngNwBOxevcv"
   },
   "source": [
    "What kind of labels are we dealing with?"
   ]
  },
  {
   "cell_type": "code",
   "execution_count": null,
   "metadata": {
    "colab": {
     "base_uri": "https://localhost:8080/"
    },
    "id": "cfgZGtMGe0XB",
    "outputId": "6b2967a9-885a-48d8-9389-597798b3f93e"
   },
   "outputs": [],
   "source": [
    "# Check out the different labels\n",
    "circles.label.value_counts()"
   ]
  },
  {
   "cell_type": "markdown",
   "metadata": {
    "id": "ajz7TdQPesKt"
   },
   "source": [
    "Alright, looks like we're dealing with a **binary classification** problem. It's binary because there are only two labels (0 or 1).\n",
    "\n",
    "If there were more label options (e.g. 0, 1, 2, 3 or 4), it would be called **multiclass classification**.\n",
    "\n",
    "Let's take our visualization a step further and plot our data."
   ]
  },
  {
   "cell_type": "code",
   "execution_count": null,
   "metadata": {
    "colab": {
     "base_uri": "https://localhost:8080/",
     "height": 264
    },
    "id": "KIPTzrETMemP",
    "outputId": "772f06a8-0527-4833-af0e-021063ef174f"
   },
   "outputs": [],
   "source": [
    "# Visualize with a plot\n",
    "import matplotlib.pyplot as plt\n",
    "plt.scatter(X[:, 0], X[:, 1], c=y, cmap=plt.cm.RdYlBu);"
   ]
  },
  {
   "cell_type": "markdown",
   "metadata": {
    "id": "_Jty66H6cbJp"
   },
   "source": [
    "Nice! From the plot, can you guess what kind of model we might want to build?\n",
    "\n",
    "How about we try and build one to classify blue or red dots? As in, a model which is able to distinguish blue from red dots.\n",
    "\n",
    "> 🛠 **Practice:** Before pushing forward, you might want to spend 10 minutes playing around with the [TensorFlow Playground](https://playground.tensorflow.org/#activation=relu&batchSize=10&dataset=circle&regDataset=reg-plane&learningRate=0.03&regularizationRate=0&noise=0&networkShape=2,2&seed=0.93799&showTestData=false&discretize=false&percTrainData=50&x=true&y=true&xTimesY=false&xSquared=false&ySquared=false&cosX=false&sinX=false&cosY=false&sinY=false&collectStats=false&problem=classification&initZero=false&hideText=false&regularization_hide=true&regularizationRate_hide=true&batchSize_hide=true). Try adjusting the different hyperparameters you see and click play to see a neural network train. I think you'll find the data very similar to what we've just created."
   ]
  },
  {
   "cell_type": "markdown",
   "metadata": {
    "id": "Cv4fEHihOAq4"
   },
   "source": [
    "## Input and output shapes\n",
    "\n",
    "One of the most common issues you'll run into when building neural networks is shape mismatches.\n",
    "\n",
    "More specifically, the shape of the input data and the shape of the output data.\n",
    "\n",
    "In our case, we want to input `X` and get our model to predict `y`.\n",
    "\n",
    "So let's check out the shapes of `X` and `y`."
   ]
  },
  {
   "cell_type": "code",
   "execution_count": null,
   "metadata": {
    "colab": {
     "base_uri": "https://localhost:8080/"
    },
    "id": "lZxjjmsHNt_K",
    "outputId": "3b0804e8-0589-4362-b776-420f7268179d"
   },
   "outputs": [],
   "source": [
    "# Check the shapes of our features and labels\n",
    "X.shape, y.shape"
   ]
  },
  {
   "cell_type": "markdown",
   "metadata": {
    "id": "5BSq58RogJMa"
   },
   "source": [
    "Hmm, where do these numbers come from?"
   ]
  },
  {
   "cell_type": "code",
   "execution_count": null,
   "metadata": {
    "colab": {
     "base_uri": "https://localhost:8080/"
    },
    "id": "SPr81SsKgHvZ",
    "outputId": "1830d6b7-3a78-40fb-c781-ba955f8f97c4"
   },
   "outputs": [],
   "source": [
    "# Check how many samples we have\n",
    "len(X), len(y)"
   ]
  },
  {
   "cell_type": "markdown",
   "metadata": {
    "id": "XCBbrNaOgPWC"
   },
   "source": [
    "So we've got as many `X` values as we do `y` values, that makes sense.\n",
    "\n",
    "Let's check out one example of each."
   ]
  },
  {
   "cell_type": "code",
   "execution_count": null,
   "metadata": {
    "colab": {
     "base_uri": "https://localhost:8080/"
    },
    "id": "hwrSEVubgZNb",
    "outputId": "9e75aa69-8709-441a-dbbb-1ae7feafd8eb"
   },
   "outputs": [],
   "source": [
    "# View the first example of features and labels\n",
    "X[0], y[0]"
   ]
  },
  {
   "cell_type": "markdown",
   "metadata": {
    "id": "OMeqY8JSgg4L"
   },
   "source": [
    "Alright, so we've got two `X` features which lead to one `y` value.\n",
    "\n",
    "This means our neural network input shape will has to accept a tensor with at least one dimension being two and output a tensor with at least one value.\n",
    "\n",
    "> 🤔 **Note:** `y` having a shape of (1000,) can seem confusing. However, this is because all `y` values are actually scalars (single values) and therefore don't have a dimension. For now, think of your output shape as being at least the same value as one example of `y` (in our case, the output from our neural network has to be at least one value)."
   ]
  },
  {
   "cell_type": "markdown",
   "metadata": {
    "id": "vSjUbiCBN9fc"
   },
   "source": [
    "## Steps in modelling\n",
    "\n",
    "Now we know what data we have as well as the input and output shapes, let's see how we'd build a neural network to model it.\n",
    "\n",
    "In TensorFlow, there are typically 3 fundamental steps to creating and training a model.\n",
    "\n",
    "1. **Creating a model** - piece together the layers of a neural network yourself (using the [functional](https://www.tensorflow.org/guide/keras/functional) or [sequential API](https://www.tensorflow.org/api_docs/python/tf/keras/Sequential)) or import a previously built model (known as transfer learning).\n",
    "2. **Compiling a model** - defining how a model's performance should be measured (loss/metrics) as well as defining how it should improve (optimizer). \n",
    "3. **Fitting a model** - letting the model try to find patterns in the data (how does `X` get to `y`). \n",
    "\n",
    "Let's see these in action using the Sequential API to build a model for our regression data. And then we'll step through each."
   ]
  },
  {
   "cell_type": "code",
   "execution_count": null,
   "metadata": {
    "colab": {
     "base_uri": "https://localhost:8080/"
    },
    "id": "Lt4pbcZ7OEif",
    "outputId": "80de56cd-fa86-49bf-f2b3-32819f8ebbf5"
   },
   "outputs": [],
   "source": [
    "# Set random seed\n",
    "tf.random.set_seed(42)\n",
    "\n",
    "# 1. Create the model using the Sequential API\n",
    "model_1 = tf.keras.Sequential([\n",
    "  tf.keras.layers.Dense(1)\n",
    "])\n",
    "\n",
    "# 2. Compile the model\n",
    "model_1.compile(loss=tf.keras.losses.BinaryCrossentropy(), # binary since we are working with 2 clases (0 & 1)\n",
    "                optimizer=tf.keras.optimizers.SGD(),\n",
    "                metrics=['accuracy'])\n",
    "\n",
    "# 3. Fit the model\n",
    "model_1.fit(X, y, epochs=5)"
   ]
  },
  {
   "cell_type": "markdown",
   "metadata": {
    "id": "oa8Tcv9ePRq6"
   },
   "source": [
    "Looking at the accuracy metric, our model performs poorly (50% accuracy on a binary classification problem is the equivalent of guessing), but what if we trained it for longer?"
   ]
  },
  {
   "cell_type": "code",
   "execution_count": null,
   "metadata": {
    "colab": {
     "base_uri": "https://localhost:8080/"
    },
    "id": "GqVVD_IqPHm5",
    "outputId": "2a689bd6-4c6f-42f7-e982-577b4bb21905"
   },
   "outputs": [],
   "source": [
    "# Train our model for longer (more chances to look at the data)\n",
    "model_1.fit(X, y, epochs=200, verbose=0) # set verbose=0 to remove training updates\n",
    "model_1.evaluate(X, y)"
   ]
  },
  {
   "cell_type": "markdown",
   "metadata": {
    "id": "H-qaMmKrPegL"
   },
   "source": [
    "Even after 200 passes of the data, it's still performing as if it's guessing.\n",
    "\n",
    "What if we added an extra layer and trained for a little longer?"
   ]
  },
  {
   "cell_type": "code",
   "execution_count": null,
   "metadata": {
    "colab": {
     "base_uri": "https://localhost:8080/"
    },
    "id": "TED0ZkOuPklW",
    "outputId": "e340abb8-1bdf-4caa-fb34-5713fd5f782d"
   },
   "outputs": [],
   "source": [
    "# Set random seed\n",
    "tf.random.set_seed(42)\n",
    "\n",
    "# 1. Create the model (same as model_1 but with an extra layer)\n",
    "model_2 = tf.keras.Sequential([\n",
    "  tf.keras.layers.Dense(1), # add an extra layer\n",
    "  tf.keras.layers.Dense(1) \n",
    "])\n",
    "\n",
    "# 2. Compile the model\n",
    "model_2.compile(loss=tf.keras.losses.BinaryCrossentropy(),\n",
    "                optimizer=tf.keras.optimizers.SGD(),\n",
    "                metrics=['accuracy'])\n",
    "\n",
    "# 3. Fit the model\n",
    "model_2.fit(X, y, epochs=100, verbose=0) # set verbose=0 to make the output print less"
   ]
  },
  {
   "cell_type": "code",
   "execution_count": null,
   "metadata": {
    "colab": {
     "base_uri": "https://localhost:8080/"
    },
    "id": "qFWWlhByirLa",
    "outputId": "ae83cac0-bd26-4d3d-b5e3-30ebab520d1d"
   },
   "outputs": [],
   "source": [
    "# Evaluate the model\n",
    "model_2.evaluate(X, y)"
   ]
  },
  {
   "cell_type": "markdown",
   "metadata": {
    "id": "HC7vhAHKQQRY"
   },
   "source": [
    "Still not even as good as guessing (~50% accuracy)... hmm...?\n",
    "\n",
    "Let's remind ourselves of a couple more ways we can use to improve our models."
   ]
  },
  {
   "cell_type": "markdown",
   "metadata": {
    "id": "wyTs6QgijF6_"
   },
   "source": [
    "## Improving a model\n",
    "\n",
    "To improve our model, we can alter almost every part of the 3 steps we went through before.\n",
    "\n",
    "1. **Creating a model** - here you might want to add more layers, increase the number of hidden units (also called neurons) within each layer, change the activation functions of each layer.\n",
    "2. **Compiling a model** - you might want to choose a different optimization function (such as the [Adam](https://www.tensorflow.org/api_docs/python/tf/keras/optimizers/Adam) optimizer, which is usually pretty good for many problems) or perhaps change the learning rate of the optimization function.\n",
    "3. **Fitting a model** - perhaps you could fit a model for more epochs (leave it training for longer).\n",
    "\n",
    "![various options you can use to improve a neural network model](https://raw.githubusercontent.com/mrdbourke/tensorflow-deep-learning/main/images/02-improving-a-model-from-model-perspective.png)\n",
    "*There are many different ways to potentially improve a neural network. Some of the most common include: increasing the number of layers (making the network deeper), increasing the number of hidden units (making the network wider) and changing the learning rate. Because these values are all human-changeable, they're referred to as [hyperparameters](https://en.wikipedia.org/wiki/Hyperparameter_(machine_learning)) and the practice of trying to find the best hyperparameters is referred to as [hyperparameter tuning](https://en.wikipedia.org/wiki/Hyperparameter_optimization).*\n",
    "\n",
    "How about we try adding more neurons, an extra layer and our friend the Adam optimizer?\n",
    "\n",
    "Surely doing this will result in predictions better than guessing...\n",
    "\n",
    "> **Note:** The following message (below this one) can be ignored if you're running TensorFlow 2.8.0+, the error seems to have been fixed.\n",
    "\n",
    "> **Note:** If you're using TensorFlow 2.7.0+ (but not 2.8.0+) the original code from the following cells may have caused some errors. They've since been updated to fix those errors. You can see explanations on what happened at the following resources:\n",
    "* [Example Colab Notebook](https://colab.research.google.com/drive/1_dlrB_DJOBS9c9foYJs49I0YwN7LTakl?usp=sharing)\n",
    "* [TensorFlow for Deep Learning GitHub Discussion on TensorFlow 2.7.0 breaking changes](https://github.com/mrdbourke/tensorflow-deep-learning/discussions/278)\n"
   ]
  },
  {
   "cell_type": "code",
   "execution_count": null,
   "metadata": {
    "colab": {
     "base_uri": "https://localhost:8080/"
    },
    "id": "46pebMB4Qeth",
    "outputId": "193e9e77-e7ab-49e3-e58f-8a0f01bf9f20"
   },
   "outputs": [],
   "source": [
    "# Set random seed\n",
    "tf.random.set_seed(42)\n",
    "\n",
    "# 1. Create the model (this time 3 layers)\n",
    "model_3 = tf.keras.Sequential([\n",
    "  # Before TensorFlow 2.7.0\n",
    "  # tf.keras.layers.Dense(100), # add 100 dense neurons\n",
    "\n",
    "  # With TensorFlow 2.7.0\n",
    "  # tf.keras.layers.Dense(100, input_shape=(None, 1)), # add 100 dense neurons\n",
    "\n",
    "  ## After TensorFlow 2.8.0 ##\n",
    "  tf.keras.layers.Dense(100), # add 100 dense neurons\n",
    "  tf.keras.layers.Dense(10), # add another layer with 10 neurons\n",
    "  tf.keras.layers.Dense(1)\n",
    "])\n",
    "\n",
    "# 2. Compile the model\n",
    "model_3.compile(loss=tf.keras.losses.BinaryCrossentropy(),\n",
    "                optimizer=tf.keras.optimizers.Adam(), # use Adam instead of SGD\n",
    "                metrics=['accuracy'])\n",
    "\n",
    "# 3. Fit the model\n",
    "model_3.fit(X, y, epochs=100, verbose=1) # fit for 100 passes of the data"
   ]
  },
  {
   "cell_type": "markdown",
   "metadata": {
    "id": "TJJL0YT7RVzv"
   },
   "source": [
    "Still! \n",
    "\n",
    "We've pulled out a few tricks but our model isn't even doing better than guessing.\n",
    "\n",
    "Let's make some visualizations to see what's happening.\n",
    "\n",
    "> 🔑 **Note:** Whenever your model is performing strangely or there's something going on with your data you're not quite sure of, remember these three words: **visualize, visualize, visualize**. Inspect your data, inspect your model, inpsect your model's predictions.\n",
    "\n",
    "To visualize our model's predictions we're going to create a function `plot_decision_boundary()` which:\n",
    "* Takes in a trained model, features (`X`) and labels (`y`).\n",
    "* Creates a [meshgrid](https://numpy.org/doc/stable/reference/generated/numpy.meshgrid.html) of the different `X` values.\n",
    "* Makes predictions across the meshgrid.\n",
    "* Plots the predictions as well as a line between the different zones (where each unique class falls).\n",
    "\n",
    "If this sounds confusing, let's see it in code and then see the output.\n",
    "\n",
    "> 🔑 **Note:** If you're ever unsure of what a function does, try unraveling it and writing it line by line for yourself to see what it does. Break it into small parts and see what each part outputs."
   ]
  },
  {
   "cell_type": "code",
   "execution_count": null,
   "metadata": {
    "id": "MuwGjU_XR0aG"
   },
   "outputs": [],
   "source": [
    "import numpy as np\n",
    "\n",
    "def plot_decision_boundary(model, X, y):\n",
    "  \"\"\"\n",
    "  Plots the decision boundary created by a model predicting on X.\n",
    "  This function has been adapted from two phenomenal resources:\n",
    "   1. CS231n - https://cs231n.github.io/neural-networks-case-study/\n",
    "   2. Made with ML basics - https://github.com/GokuMohandas/MadeWithML/blob/main/notebooks/08_Neural_Networks.ipynb\n",
    "  \"\"\"\n",
    "  # Define the axis boundaries of the plot and create a meshgrid\n",
    "  x_min, x_max = X[:, 0].min() - 0.1, X[:, 0].max() + 0.1\n",
    "  y_min, y_max = X[:, 1].min() - 0.1, X[:, 1].max() + 0.1\n",
    "  xx, yy = np.meshgrid(np.linspace(x_min, x_max, 100),\n",
    "                       np.linspace(y_min, y_max, 100))\n",
    "  \n",
    "  # Create X values (we're going to predict on all of these)\n",
    "  x_in = np.c_[xx.ravel(), yy.ravel()] # stack 2D arrays together: https://numpy.org/devdocs/reference/generated/numpy.c_.html\n",
    "  \n",
    "  # Make predictions using the trained model\n",
    "  y_pred = model.predict(x_in)\n",
    "\n",
    "  # Check for multi-class\n",
    "  if model.output_shape[-1] > 1: # checks the final dimension of the model's output shape, if this is > (greater than) 1, it's multi-class \n",
    "    print(\"doing multiclass classification...\")\n",
    "    # We have to reshape our predictions to get them ready for plotting\n",
    "    y_pred = np.argmax(y_pred, axis=1).reshape(xx.shape)\n",
    "  else:\n",
    "    print(\"doing binary classifcation...\")\n",
    "    y_pred = np.round(np.max(y_pred, axis=1)).reshape(xx.shape)\n",
    "  \n",
    "  # Plot decision boundary\n",
    "  plt.contourf(xx, yy, y_pred, cmap=plt.cm.RdYlBu, alpha=0.7)\n",
    "  plt.scatter(X[:, 0], X[:, 1], c=y, s=40, cmap=plt.cm.RdYlBu)\n",
    "  plt.xlim(xx.min(), xx.max())\n",
    "  plt.ylim(yy.min(), yy.max())"
   ]
  },
  {
   "cell_type": "markdown",
   "metadata": {
    "id": "OgekXFM2clQW"
   },
   "source": [
    "Now we've got a function to plot our model's decision boundary (the cut off point its making between red and blue dots), let's try it out."
   ]
  },
  {
   "cell_type": "code",
   "execution_count": null,
   "metadata": {
    "colab": {
     "base_uri": "https://localhost:8080/",
     "height": 281
    },
    "id": "XIyCVjolTmy4",
    "outputId": "7a6ad5bc-6e6d-41ca-d770-0f2782eafc5f"
   },
   "outputs": [],
   "source": [
    "# Check out the predictions our model is making\n",
    "plot_decision_boundary(model_3, X, y)"
   ]
  },
  {
   "cell_type": "markdown",
   "metadata": {
    "id": "XIzcQrknUJPK"
   },
   "source": [
    "Looks like our model is trying to draw a straight line through the data.\n",
    "\n",
    "What's wrong with doing this?\n",
    "\n",
    "The main issue is our data isn't separable by a straight line.\n",
    "\n",
    "In a regression problem, our model might work. In fact, let's try it."
   ]
  },
  {
   "cell_type": "code",
   "execution_count": null,
   "metadata": {
    "colab": {
     "base_uri": "https://localhost:8080/",
     "height": 710
    },
    "id": "7d9O9subUshC",
    "outputId": "04ca4fd9-2160-4e4a-b7fb-69f0da401c46"
   },
   "outputs": [],
   "source": [
    "# Set random seed\n",
    "tf.random.set_seed(42)\n",
    "\n",
    "# Create some regression data\n",
    "X_regression = np.arange(0, 1000, 5)\n",
    "y_regression = np.arange(100, 1100, 5)\n",
    "\n",
    "# Split it into training and test sets\n",
    "X_reg_train = X_regression[:150]\n",
    "X_reg_test = X_regression[150:]\n",
    "y_reg_train = y_regression[:150]\n",
    "y_reg_test = y_regression[150:]\n",
    "\n",
    "# Fit our model to the data\n",
    "# Note: Before TensorFlow 2.7.0, this line would work\n",
    "# model_3.fit(X_reg_train, y_reg_train, epochs=100)\n",
    "\n",
    "# After TensorFlow 2.7.0, see here for more: https://github.com/mrdbourke/tensorflow-deep-learning/discussions/278\n",
    "#model_3.fit(tf.expand_dims(X_reg_train, axis=-1), \n",
    "#            y_reg_train,\n",
    "#            epochs=100)"
   ]
  },
  {
   "cell_type": "code",
   "execution_count": null,
   "metadata": {
    "colab": {
     "base_uri": "https://localhost:8080/"
    },
    "id": "lFGjyziVn_Zh",
    "outputId": "2c273abd-e38a-4c1a-e1c0-330a774b5fae"
   },
   "outputs": [],
   "source": [
    "model_3.summary()"
   ]
  },
  {
   "cell_type": "markdown",
   "metadata": {
    "id": "SMu37fayVEZI"
   },
   "source": [
    "Oh wait... we compiled our model for a binary classification problem.\n",
    "\n",
    "No trouble, we can recreate it for a regression problem."
   ]
  },
  {
   "cell_type": "code",
   "execution_count": null,
   "metadata": {
    "colab": {
     "base_uri": "https://localhost:8080/"
    },
    "id": "OUJtmMPZVOZ9",
    "outputId": "4b58b8de-3400-40cc-d74d-6909f6b17a69"
   },
   "outputs": [],
   "source": [
    "# Setup random seed\n",
    "tf.random.set_seed(42)\n",
    "\n",
    "# Recreate the model\n",
    "model_3 = tf.keras.Sequential([\n",
    "  tf.keras.layers.Dense(100),\n",
    "  tf.keras.layers.Dense(10),\n",
    "  tf.keras.layers.Dense(1)\n",
    "])\n",
    "\n",
    "# Change the loss and metrics of our compiled model\n",
    "model_3.compile(loss=tf.keras.losses.mae, # change the loss function to be regression-specific\n",
    "                optimizer=tf.keras.optimizers.Adam(),\n",
    "                metrics=['mae']) # change the metric to be regression-specific\n",
    "\n",
    "# Fit the recompiled model\n",
    "model_3.fit(tf.expand_dims(X_reg_train, axis=-1), \n",
    "            y_reg_train, \n",
    "            epochs=100)"
   ]
  },
  {
   "cell_type": "markdown",
   "metadata": {
    "id": "FYHvt7fRWBUL"
   },
   "source": [
    "Okay, it seems like our model is learning something (the `mae` value trends down with each epoch), let's plot its predictions."
   ]
  },
  {
   "cell_type": "code",
   "execution_count": null,
   "metadata": {
    "colab": {
     "base_uri": "https://localhost:8080/",
     "height": 428
    },
    "id": "qUf5DL_fWMZA",
    "outputId": "2c963b54-a697-4f4a-b4dc-00777fc82aaa"
   },
   "outputs": [],
   "source": [
    "# Make predictions with our trained model\n",
    "y_reg_preds = model_3.predict(y_reg_test)\n",
    "\n",
    "# Plot the model's predictions against our regression data\n",
    "plt.figure(figsize=(10, 7))\n",
    "plt.scatter(X_reg_train, y_reg_train, c='b', label='Training data')\n",
    "plt.scatter(X_reg_test, y_reg_test, c='g', label='Testing data')\n",
    "plt.scatter(X_reg_test, y_reg_preds.squeeze(), c='r', label='Predictions')\n",
    "plt.legend();"
   ]
  },
  {
   "cell_type": "markdown",
   "metadata": {
    "id": "V-LGK_jQYUcA"
   },
   "source": [
    "Okay, the predictions aren't perfect (if the predictions were perfect, the red would line up with the green), but they look better than complete guessing.\n",
    "\n",
    "So this means our model must be learning something...\n",
    "\n",
    "There must be something we're missing out on for our classification problem."
   ]
  },
  {
   "cell_type": "markdown",
   "metadata": {
    "id": "RZqShArhUh6d"
   },
   "source": [
    "## The missing piece: Non-linearity\n",
    "\n",
    "Okay, so we saw our neural network can model straight lines (with ability a little bit better than guessing).\n",
    "\n",
    "What about non-straight (non-linear) lines?\n",
    "\n",
    "If we're going to model our classification data (the red and clue circles), we're going to need some non-linear lines.\n",
    "\n",
    "> 🔨 **Practice:** Before we get to the next steps, I'd encourage you to play around with the [TensorFlow Playground](https://playground.tensorflow.org/#activation=linear&batchSize=1&dataset=circle&regDataset=reg-plane&learningRate=0.01&regularizationRate=0&noise=0&networkShape=1&seed=0.09561&showTestData=false&discretize=false&percTrainData=70&x=true&y=true&xTimesY=false&xSquared=false&ySquared=false&cosX=false&sinX=false&cosY=false&sinY=false&collectStats=false&problem=classification&initZero=false&hideText=false&regularizationRate_hide=true&discretize_hide=true&regularization_hide=true&dataset_hide=true&noise_hide=true&batchSize_hide=true) (check out what the data has in common with our own classification data) for 10-minutes. In particular the tab which says \"activation\". Once you're done, come back.\n",
    "\n",
    "Did you try out the activation options? If so, what did you find?\n",
    "\n",
    "If you didn't, don't worry, let's see it in code.\n",
    "\n",
    "We're going to replicate the neural network you can see at this link: [TensorFlow Playground](https://playground.tensorflow.org/#activation=linear&batchSize=1&dataset=circle&regDataset=reg-plane&learningRate=0.01&regularizationRate=0&noise=0&networkShape=1&seed=0.09561&showTestData=false&discretize=false&percTrainData=70&x=true&y=true&xTimesY=false&xSquared=false&ySquared=false&cosX=false&sinX=false&cosY=false&sinY=false&collectStats=false&problem=classification&initZero=false&hideText=false&regularizationRate_hide=true&discretize_hide=true&regularization_hide=true&dataset_hide=true&noise_hide=true&batchSize_hide=true).\n",
    "\n",
    "![simple neural net created with TensorFlow playground](https://raw.githubusercontent.com/mrdbourke/tensorflow-deep-learning/main/images/02-tensorflow-playground-simple-net-linear-activation.png)\n",
    "*The neural network we're going to recreate with TensorFlow code. See it live at [TensorFlow Playground](https://playground.tensorflow.org/#activation=linear&batchSize=1&dataset=circle&regDataset=reg-plane&learningRate=0.01&regularizationRate=0&noise=0&networkShape=1&seed=0.09561&showTestData=false&discretize=false&percTrainData=70&x=true&y=true&xTimesY=false&xSquared=false&ySquared=false&cosX=false&sinX=false&cosY=false&sinY=false&collectStats=false&problem=classification&initZero=false&hideText=false&regularizationRate_hide=true&discretize_hide=true&regularization_hide=true&dataset_hide=true&noise_hide=true&batchSize_hide=true).*\n",
    "\n",
    "The main change we'll add to models we've built before is the use of the `activation` keyword.\n"
   ]
  },
  {
   "cell_type": "code",
   "execution_count": null,
   "metadata": {
    "colab": {
     "base_uri": "https://localhost:8080/"
    },
    "id": "p54Sk5WeYue9",
    "outputId": "78ac1994-024e-4887-ba2b-3f8246a3c057"
   },
   "outputs": [],
   "source": [
    "# Set the random seed\n",
    "tf.random.set_seed(42)\n",
    "\n",
    "# Create the model\n",
    "model_4 = tf.keras.Sequential([\n",
    "  tf.keras.layers.Dense(1, activation=tf.keras.activations.linear), # 1 hidden layer with linear activation\n",
    "  tf.keras.layers.Dense(1) # output layer\n",
    "])\n",
    "\n",
    "# Compile the model\n",
    "model_4.compile(loss=tf.keras.losses.binary_crossentropy,\n",
    "                optimizer=tf.keras.optimizers.Adam(learning_rate=0.001), # note: \"lr\" used to be what was used, now \"learning_rate\" is favoured\n",
    "                metrics=[\"accuracy\"])\n",
    "\n",
    "# Fit the model\n",
    "history = model_4.fit(X, y, epochs=100)"
   ]
  },
  {
   "cell_type": "markdown",
   "metadata": {
    "id": "TTNzKBvwf2uJ"
   },
   "source": [
    "Okay, our model performs a little worse than guessing.\n",
    "\n",
    "Let's remind ourselves what our data looks like."
   ]
  },
  {
   "cell_type": "code",
   "execution_count": null,
   "metadata": {
    "colab": {
     "base_uri": "https://localhost:8080/",
     "height": 264
    },
    "id": "RcwI7-s1f2a4",
    "outputId": "b75263ee-07ac-4191-b46c-eb09b56dcd66"
   },
   "outputs": [],
   "source": [
    "# Check out our data\n",
    "plt.scatter(X[:, 0], X[:, 1], c=y, cmap=plt.cm.RdYlBu);"
   ]
  },
  {
   "cell_type": "markdown",
   "metadata": {
    "id": "EmuUVtenj-tC"
   },
   "source": [
    "And let's see how our model is making predictions on it."
   ]
  },
  {
   "cell_type": "code",
   "execution_count": null,
   "metadata": {
    "colab": {
     "base_uri": "https://localhost:8080/",
     "height": 281
    },
    "id": "_vFgOI88itVD",
    "outputId": "38f9b3eb-0190-402a-8759-ba9cba07124e"
   },
   "outputs": [],
   "source": [
    "# Check the deicison boundary (blue is blue class, yellow is the crossover, red is red class)\n",
    "plot_decision_boundary(model_4, X, y)"
   ]
  },
  {
   "cell_type": "markdown",
   "metadata": {
    "id": "XgNyVx3XkG4K"
   },
   "source": [
    "Well, it looks like we're getting a straight (linear) line prediction again. \n",
    "\n",
    "But our data is non-linear (not a straight line)...\n",
    "\n",
    "What we're going to have to do is add some non-linearity to our model.\n",
    "\n",
    "To do so, we'll use the `activation` parameter in on of our layers."
   ]
  },
  {
   "cell_type": "code",
   "execution_count": null,
   "metadata": {
    "colab": {
     "base_uri": "https://localhost:8080/"
    },
    "id": "utJIUKmHkbyV",
    "outputId": "e43a9f1b-4e43-4532-c207-1ca3866a7cbb"
   },
   "outputs": [],
   "source": [
    "# Set random seed\n",
    "tf.random.set_seed(42)\n",
    "\n",
    "# Create a model with a non-linear activation\n",
    "model_5 = tf.keras.Sequential([\n",
    "  tf.keras.layers.Dense(1, activation=tf.keras.activations.relu), # can also do activation='relu'\n",
    "  tf.keras.layers.Dense(1) # output layer \n",
    "])\n",
    "\n",
    "# Compile the model\n",
    "model_5.compile(loss=tf.keras.losses.binary_crossentropy,\n",
    "              optimizer=tf.keras.optimizers.Adam(),\n",
    "              metrics=[\"accuracy\"])\n",
    "\n",
    "# Fit the model\n",
    "history = model_5.fit(X, y, epochs=100)"
   ]
  },
  {
   "cell_type": "markdown",
   "metadata": {
    "id": "eW3l-KicgLW8"
   },
   "source": [
    "Hmm... still not learning...\n",
    "\n",
    "What we if increased the number of neurons and layers?\n",
    "\n",
    "Say, 2 hidden layers, with [ReLU](https://www.tensorflow.org/api_docs/python/tf/keras/activations/relu), pronounced \"rel-u\", (short for [rectified linear unit](https://machinelearningmastery.com/rectified-linear-activation-function-for-deep-learning-neural-networks/)), activation on the first one, and 4 neurons each?\n",
    "\n",
    "To see this network in action, check out the [TensorFlow Playground demo](https://playground.tensorflow.org/#activation=relu&batchSize=10&dataset=circle&regDataset=reg-plane&learningRate=0.001&regularizationRate=0&noise=0&networkShape=4,4&seed=0.93799&showTestData=false&discretize=false&percTrainData=50&x=true&y=true&xTimesY=false&xSquared=false&ySquared=false&cosX=false&sinX=false&cosY=false&sinY=false&collectStats=false&problem=classification&initZero=false&hideText=false&regularization_hide=true&regularizationRate_hide=true&batchSize_hide=true&dataset_hide=true).\n",
    "\n",
    "![multi-layer neural net created with TensorFlow playground](https://raw.githubusercontent.com/mrdbourke/tensorflow-deep-learning/main/images/02-tensorflow-playground-two-layer-net-relu-activation.png)\n",
    "*The neural network we're going to recreate with TensorFlow code. See it live at [TensorFlow Playground](https://playground.tensorflow.org/#activation=relu&batchSize=10&dataset=circle&regDataset=reg-plane&learningRate=0.001&regularizationRate=0&noise=0&networkShape=4,4&seed=0.93799&showTestData=false&discretize=false&percTrainData=50&x=true&y=true&xTimesY=false&xSquared=false&ySquared=false&cosX=false&sinX=false&cosY=false&sinY=false&collectStats=false&problem=classification&initZero=false&hideText=false&regularization_hide=true&regularizationRate_hide=true&batchSize_hide=true&dataset_hide=true).*\n",
    "\n",
    "Let's try."
   ]
  },
  {
   "cell_type": "code",
   "execution_count": null,
   "metadata": {
    "colab": {
     "base_uri": "https://localhost:8080/"
    },
    "id": "yXxtQFHwlc9w",
    "outputId": "dcfd2b1e-9818-43fd-d808-12c29183106e"
   },
   "outputs": [],
   "source": [
    "# Set random seed\n",
    "tf.random.set_seed(42)\n",
    "\n",
    "# Create a model\n",
    "model_6 = tf.keras.Sequential([\n",
    "  tf.keras.layers.Dense(4, activation=tf.keras.activations.relu), # hidden layer 1, 4 neurons, ReLU activation\n",
    "  tf.keras.layers.Dense(4, activation=tf.keras.activations.relu), # hidden layer 2, 4 neurons, ReLU activation\n",
    "  tf.keras.layers.Dense(1) # ouput layer\n",
    "])\n",
    "\n",
    "# Compile the model\n",
    "model_6.compile(loss=tf.keras.losses.binary_crossentropy,\n",
    "                optimizer=tf.keras.optimizers.Adam(learning_rate=0.001), # Adam's default learning rate is 0.001\n",
    "                metrics=['accuracy'])\n",
    "\n",
    "# Fit the model\n",
    "history = model_6.fit(X, y, epochs=100)"
   ]
  },
  {
   "cell_type": "code",
   "execution_count": null,
   "metadata": {
    "colab": {
     "base_uri": "https://localhost:8080/"
    },
    "id": "bJqimQ0UsiO5",
    "outputId": "e277e187-a4d3-433d-ff1d-e1e9d3df6422"
   },
   "outputs": [],
   "source": [
    "# Evaluate the model\n",
    "model_6.evaluate(X, y)"
   ]
  },
  {
   "cell_type": "markdown",
   "metadata": {
    "id": "Dh6l8egoc-Wr"
   },
   "source": [
    "We're still hitting 50% accuracy, our model is still practically as good as guessing.\n",
    "\n",
    "How do the predictions look?"
   ]
  },
  {
   "cell_type": "code",
   "execution_count": null,
   "metadata": {
    "colab": {
     "base_uri": "https://localhost:8080/",
     "height": 281
    },
    "id": "OtmmuzJkcclw",
    "outputId": "df6daaab-4bfa-453b-d074-40cc5409a833"
   },
   "outputs": [],
   "source": [
    "# Check out the predictions using 2 hidden layers\n",
    "plot_decision_boundary(model_6, X, y)"
   ]
  },
  {
   "cell_type": "markdown",
   "metadata": {
    "id": "q-hj-lAodLYU"
   },
   "source": [
    "What gives? \n",
    "\n",
    "It seems like our model is the same as the one in the [TensorFlow Playground](https://playground.tensorflow.org/#activation=relu&batchSize=10&dataset=circle&regDataset=reg-plane&learningRate=0.03&regularizationRate=0&noise=0&networkShape=4,4&seed=0.93799&showTestData=false&discretize=false&percTrainData=50&x=true&y=true&xTimesY=false&xSquared=false&ySquared=false&cosX=false&sinX=false&cosY=false&sinY=false&collectStats=false&problem=classification&initZero=false&hideText=false&regularization_hide=true&regularizationRate_hide=true&batchSize_hide=true) but model it's still drawing straight lines... \n",
    "\n",
    "Ideally, the yellow lines go on the inside of the red circle and the blue circle.\n",
    "\n",
    "Okay, okay, let's model this circle once and for all. \n",
    "\n",
    "One more model (I promise... actually, I'm going to have to break that promise... we'll be building plenty more models). \n",
    "\n",
    "This time we'll change the activation function on our output layer too. Remember the architecture of a classification model? For binary classification, the output layer activation is usually the [Sigmoid activation function](https://www.tensorflow.org/api_docs/python/tf/math/sigmoid)."
   ]
  },
  {
   "cell_type": "code",
   "execution_count": null,
   "metadata": {
    "id": "zgyJ67E3corL"
   },
   "outputs": [],
   "source": [
    "# Set random seed\n",
    "tf.random.set_seed(42)\n",
    "\n",
    "# Create a model\n",
    "model_7 = tf.keras.Sequential([\n",
    "  tf.keras.layers.Dense(4, activation=tf.keras.activations.relu), # hidden layer 1, ReLU activation\n",
    "  tf.keras.layers.Dense(4, activation=tf.keras.activations.relu), # hidden layer 2, ReLU activation\n",
    "  tf.keras.layers.Dense(1, activation=tf.keras.activations.sigmoid) # ouput layer, sigmoid activation\n",
    "])\n",
    "\n",
    "# Compile the model\n",
    "model_7.compile(loss=tf.keras.losses.binary_crossentropy,\n",
    "                optimizer=tf.keras.optimizers.Adam(),\n",
    "                metrics=['accuracy'])\n",
    "\n",
    "# Fit the model\n",
    "history = model_7.fit(X, y, epochs=100, verbose=0)"
   ]
  },
  {
   "cell_type": "code",
   "execution_count": null,
   "metadata": {
    "colab": {
     "base_uri": "https://localhost:8080/"
    },
    "id": "e5wpRgBVtSRK",
    "outputId": "e56ae09a-9006-4a1b-eb30-c58d5a778834"
   },
   "outputs": [],
   "source": [
    "# Evaluate our model\n",
    "model_7.evaluate(X, y)"
   ]
  },
  {
   "cell_type": "markdown",
   "metadata": {
    "id": "XsB0aZ42eIS2"
   },
   "source": [
    "Woah! It looks like our model is getting some incredible results, let's check them out."
   ]
  },
  {
   "cell_type": "code",
   "execution_count": null,
   "metadata": {
    "colab": {
     "base_uri": "https://localhost:8080/",
     "height": 281
    },
    "id": "zSoLyVMmczP4",
    "outputId": "69ae17c9-1ba3-44cc-cbf8-da563a2cff87"
   },
   "outputs": [],
   "source": [
    "# View the predictions of the model with relu and sigmoid activations\n",
    "plot_decision_boundary(model_7, X, y)"
   ]
  },
  {
   "cell_type": "markdown",
   "metadata": {
    "id": "zKR2JO4PeTie"
   },
   "source": [
    "Nice! It looks like our model is almost perfectly (apart from a few examples) separating the two circles.\n",
    "\n",
    "> 🤔 **Question:** What's wrong with the predictions we've made? Are we really evaluating our model correctly here? Hint: what data did the model learn on and what did we predict on?\n",
    "\n",
    "Before we answer that, it's important to recognize what we've just covered.\n",
    "\n",
    "> 🔑 **Note:** The combination of **linear (straight lines) and non-linear (non-straight lines) functions** is one of the key fundamentals of neural networks.\n",
    "\n",
    "Think of it like this:\n",
    "\n",
    "If I gave you an unlimited amount of straight lines and non-straight lines, what kind of patterns could you draw?\n",
    "\n",
    "That's essentially what neural networks do to find patterns in data.\n",
    "\n",
    "Now you might be thinking, \"but I haven't seen a linear function or a non-linear function before...\"\n",
    "\n",
    "Oh but you have.\n",
    "\n",
    "We've been using them the whole time.\n",
    "\n",
    "They're what power the layers in the models we just built.\n",
    "\n",
    "To get some intuition about the activation functions we've just used, let's create them and then try them on some toy data."
   ]
  },
  {
   "cell_type": "code",
   "execution_count": null,
   "metadata": {
    "colab": {
     "base_uri": "https://localhost:8080/"
    },
    "id": "qm-b9aoemQ8A",
    "outputId": "8b250ad8-19dc-4b18-e79f-54d267fff2fa"
   },
   "outputs": [],
   "source": [
    "# Create a toy tensor (similar to the data we pass into our model)\n",
    "A = tf.cast(tf.range(-10, 10), tf.float32)\n",
    "A"
   ]
  },
  {
   "cell_type": "markdown",
   "metadata": {
    "id": "Ti67IeWI9vnP"
   },
   "source": [
    "How does this look?\n",
    "\n"
   ]
  },
  {
   "cell_type": "code",
   "execution_count": null,
   "metadata": {
    "colab": {
     "base_uri": "https://localhost:8080/",
     "height": 264
    },
    "id": "mYWO_14e-Pf8",
    "outputId": "03339417-8c8a-4ddf-ac0f-6ea6f2285cbd"
   },
   "outputs": [],
   "source": [
    "# Visualize our toy tensor\n",
    "plt.plot(A);"
   ]
  },
  {
   "cell_type": "markdown",
   "metadata": {
    "id": "5f9qOgTb-O7L"
   },
   "source": [
    "A straight (linear) line!\n",
    "\n",
    "Nice, now let's recreate the [sigmoid function](https://en.wikipedia.org/wiki/Sigmoid_function) and see what it does to our data. You can also find a pre-built sigmoid function at [`tf.keras.activations.sigmoid`](https://www.tensorflow.org/api_docs/python/tf/keras/activations/sigmoid)."
   ]
  },
  {
   "cell_type": "code",
   "execution_count": null,
   "metadata": {
    "colab": {
     "base_uri": "https://localhost:8080/"
    },
    "id": "corG975yiwAP",
    "outputId": "47fb06ee-ff3e-48f9-dc37-c133ebd20d31"
   },
   "outputs": [],
   "source": [
    "# Sigmoid - https://www.tensorflow.org/api_docs/python/tf/keras/activations/sigmoid\n",
    "def sigmoid(x):\n",
    "  return 1 / (1 + tf.exp(-x))\n",
    "\n",
    "# Use the sigmoid function on our tensor\n",
    "sigmoid(A)"
   ]
  },
  {
   "cell_type": "markdown",
   "metadata": {
    "id": "3EpZb0F6-cn7"
   },
   "source": [
    "And how does it look?"
   ]
  },
  {
   "cell_type": "code",
   "execution_count": null,
   "metadata": {
    "colab": {
     "base_uri": "https://localhost:8080/",
     "height": 264
    },
    "id": "vz4Pr2Mk-eko",
    "outputId": "65b90f95-784c-4cd8-953c-31e18afe1236"
   },
   "outputs": [],
   "source": [
    "# Plot sigmoid modified tensor\n",
    "plt.plot(sigmoid(A));"
   ]
  },
  {
   "cell_type": "markdown",
   "metadata": {
    "id": "EGT2qtUV-k5f"
   },
   "source": [
    "A non-straight (non-linear) line!\n",
    "\n",
    "Okay, how about the [ReLU function](https://machinelearningmastery.com/rectified-linear-activation-function-for-deep-learning-neural-networks/#:~:text=The%20rectified%20linear%20activation%20function,otherwise%2C%20it%20will%20output%20zero.) (ReLU turns all negatives to 0 and positive numbers stay the same)?"
   ]
  },
  {
   "cell_type": "code",
   "execution_count": null,
   "metadata": {
    "colab": {
     "base_uri": "https://localhost:8080/"
    },
    "id": "_PUMn--Hiwyz",
    "outputId": "e6c512ac-062d-46bf-f689-03865490d482"
   },
   "outputs": [],
   "source": [
    "# ReLU - https://www.tensorflow.org/api_docs/python/tf/keras/activations/relu\n",
    "def relu(x):\n",
    "  return tf.maximum(0, x)\n",
    "\n",
    "# Pass toy tensor through ReLU function\n",
    "relu(A)"
   ]
  },
  {
   "cell_type": "markdown",
   "metadata": {
    "id": "xAkmlNeZ-90e"
   },
   "source": [
    "How does the ReLU-modified tensor look?"
   ]
  },
  {
   "cell_type": "code",
   "execution_count": null,
   "metadata": {
    "colab": {
     "base_uri": "https://localhost:8080/",
     "height": 264
    },
    "id": "iXWCO2R4mlk7",
    "outputId": "d816de4f-7c1a-4c71-9cb8-7732ea1d24ba"
   },
   "outputs": [],
   "source": [
    "# Plot ReLU-modified tensor\n",
    "plt.plot(relu(A));"
   ]
  },
  {
   "cell_type": "markdown",
   "metadata": {
    "id": "-NLdoxJr_Grk"
   },
   "source": [
    "Another non-straight line!\n",
    "\n",
    "Well, how about TensorFlow's [linear activation function](https://www.tensorflow.org/api_docs/python/tf/keras/activations/linear)? "
   ]
  },
  {
   "cell_type": "code",
   "execution_count": null,
   "metadata": {
    "colab": {
     "base_uri": "https://localhost:8080/"
    },
    "id": "Cg_kBQLVoXRB",
    "outputId": "da4a1f64-8591-4f7a-d8c0-c837d1e221f8"
   },
   "outputs": [],
   "source": [
    "# Linear - https://www.tensorflow.org/api_docs/python/tf/keras/activations/linear (returns input non-modified...)\n",
    "tf.keras.activations.linear(A)"
   ]
  },
  {
   "cell_type": "markdown",
   "metadata": {
    "id": "d0NnpC_N_uWT"
   },
   "source": [
    "Hmm, it looks like our inputs are unmodified..."
   ]
  },
  {
   "cell_type": "code",
   "execution_count": null,
   "metadata": {
    "colab": {
     "base_uri": "https://localhost:8080/"
    },
    "id": "iwlgKpco_7V2",
    "outputId": "47f8ba20-11df-4db6-e640-f562b5363a36"
   },
   "outputs": [],
   "source": [
    "# Does the linear activation change anything?\n",
    "A == tf.keras.activations.linear(A)"
   ]
  },
  {
   "cell_type": "markdown",
   "metadata": {
    "id": "KcCT_ipvADpR"
   },
   "source": [
    "Okay, so it makes sense now the model doesn't really learn anything when using only linear activation functions, because the linear activation function doesn't change our input data in anyway.\n",
    "\n",
    "Where as, with our non-linear functions, our data gets manipulated. A neural network uses these kind of transformations at a large scale to figure draw patterns between its inputs and outputs.\n",
    "\n",
    "Now rather than dive into the guts of neural networks, we're going to keep coding applying what we've learned to different problems but if you want a more in-depth look at what's going on behind the scenes, check out the Extra Curriculum section below. \n",
    "\n",
    "> 📖  **Resource:** For more on activation functions, check out the [machine learning cheatsheet page](https://ml-cheatsheet.readthedocs.io/en/latest/activation_functions.html#) on them."
   ]
  },
  {
   "cell_type": "markdown",
   "metadata": {
    "id": "BPCpA90uQBjk"
   },
   "source": [
    "## Evaluating and improving our classification model\n",
    "\n",
    "If you answered the question above, you might've picked up what we've been doing wrong.\n",
    "\n",
    "We've been evaluating our model on the same data it was trained on.\n",
    "\n",
    "A better approach would be to split our data into training, validation (optional) and test sets.\n",
    "\n",
    "Once we've done that, we'll train our model on the training set (let it find patterns in the data) and then see how well it learned the patterns by using it to predict values on the test set.\n",
    "\n",
    "Let's do it."
   ]
  },
  {
   "cell_type": "code",
   "execution_count": null,
   "metadata": {
    "colab": {
     "base_uri": "https://localhost:8080/"
    },
    "id": "NjOviFscgl4S",
    "outputId": "7e87b67e-42da-4423-cf5d-7d30d4ad4b71"
   },
   "outputs": [],
   "source": [
    "# How many examples are in the whole dataset?\n",
    "len(X)"
   ]
  },
  {
   "cell_type": "code",
   "execution_count": null,
   "metadata": {
    "colab": {
     "base_uri": "https://localhost:8080/"
    },
    "id": "qNvKa8QrkSWR",
    "outputId": "d803fc3b-bc03-4793-b97a-94b7db0b8f66"
   },
   "outputs": [],
   "source": [
    "# Split data into train and test sets\n",
    "X_train, y_train = X[:800], y[:800] # 80% of the data for the training set\n",
    "X_test, y_test = X[800:], y[800:] # 20% of the data for the test set\n",
    "\n",
    "# Check the shapes of the data\n",
    "X_train.shape, X_test.shape # 800 examples in the training set, 200 examples in the test set "
   ]
  },
  {
   "cell_type": "markdown",
   "metadata": {
    "id": "YtNge18ahgqa"
   },
   "source": [
    "Great, now we've got training and test sets, let's model the training data and evaluate what our model has learned on the test set."
   ]
  },
  {
   "cell_type": "code",
   "execution_count": null,
   "metadata": {
    "colab": {
     "base_uri": "https://localhost:8080/"
    },
    "id": "0RUOBhA1g8Kx",
    "outputId": "6e095542-1c0f-4e06-fb44-b50d8e4cc02f"
   },
   "outputs": [],
   "source": [
    "# Set random seed\n",
    "tf.random.set_seed(42)\n",
    "\n",
    "# Create the model (same as model_7)\n",
    "model_8 = tf.keras.Sequential([\n",
    "  tf.keras.layers.Dense(4, activation=\"relu\"), # hidden layer 1, using \"relu\" for activation (same as tf.keras.activations.relu)\n",
    "  tf.keras.layers.Dense(4, activation=\"relu\"),\n",
    "  tf.keras.layers.Dense(1, activation=\"sigmoid\") # output layer, using 'sigmoid' for the output\n",
    "])\n",
    "\n",
    "# Compile the model\n",
    "model_8.compile(loss=tf.keras.losses.binary_crossentropy,\n",
    "                optimizer=tf.keras.optimizers.Adam(lr=0.01), # increase learning rate from 0.001 to 0.01 for faster learning\n",
    "                metrics=['accuracy'])\n",
    "\n",
    "# Fit the model\n",
    "history = model_8.fit(X_train, y_train, epochs=25)"
   ]
  },
  {
   "cell_type": "code",
   "execution_count": null,
   "metadata": {
    "colab": {
     "base_uri": "https://localhost:8080/"
    },
    "id": "aAnKqoDxloAA",
    "outputId": "d20bf18a-d53c-4bae-c736-a23b2d261328"
   },
   "outputs": [],
   "source": [
    "# Evaluate our model on the test set\n",
    "loss, accuracy = model_8.evaluate(X_test, y_test)\n",
    "print(f\"Model loss on the test set: {loss}\")\n",
    "print(f\"Model accuracy on the test set: {100*accuracy:.2f}%\")"
   ]
  },
  {
   "cell_type": "markdown",
   "metadata": {
    "id": "c1lWpsNwjD5C"
   },
   "source": [
    "100% accuracy? Nice!\n",
    "\n",
    "Now, when we started to create `model_8` we said it was going to be the same as `model_7` but you might've found that to be a little lie.\n",
    "\n",
    "That's because we changed a few things: \n",
    "* **The `activation` parameter** - We used strings (`\"relu\"` & `\"sigmoid\"`) instead of using library paths (`tf.keras.activations.relu`), in TensorFlow, they both offer the same functionality.\n",
    "* **The `learning_rate` (also `lr`) parameter** - We increased the **learning rate** parameter in the [Adam optimizer](https://www.tensorflow.org/api_docs/python/tf/keras/optimizers/Adam) to `0.01` instead of `0.001` (an increase of 10x).\n",
    "  * You can think of the learning rate as how quickly a model learns. The higher the learning rate, the faster the model's capacity to learn, however, there's such a thing as a *too high* learning rate, where a model tries to learn too fast and doesn't learn anything. We'll see a trick to find the ideal learning rate soon.\n",
    "* **The number of epochs** - We lowered the number of epochs (using the `epochs` parameter) from 100 to 25 but our model still got an incredible result on both the training and test sets.\n",
    "  * One of the reasons our model performed well in even less epochs (remember a single epoch is the model trying to learn patterns in the data by looking at it once, so 25 epochs means the model gets 25 chances) than before is because we increased the learning rate.\n",
    "\n",
    "We know our model is performing well based on the evaluation metrics but let's see how it performs visually.\n"
   ]
  },
  {
   "cell_type": "code",
   "execution_count": null,
   "metadata": {
    "colab": {
     "base_uri": "https://localhost:8080/",
     "height": 422
    },
    "id": "LRvAIBfAmtdc",
    "outputId": "30f6c13f-da19-4b73-947c-c89324fce073"
   },
   "outputs": [],
   "source": [
    "# Plot the decision boundaries for the training and test sets\n",
    "plt.figure(figsize=(12, 6))\n",
    "plt.subplot(1, 2, 1)\n",
    "plt.title(\"Train\")\n",
    "plot_decision_boundary(model_8, X=X_train, y=y_train)\n",
    "plt.subplot(1, 2, 2)\n",
    "plt.title(\"Test\")\n",
    "plot_decision_boundary(model_8, X=X_test, y=y_test)\n",
    "plt.show()"
   ]
  },
  {
   "cell_type": "markdown",
   "metadata": {
    "id": "42KDFaHonmGN"
   },
   "source": [
    "Check that out! How cool. With a few tweaks, our model is now predicting the blue and red circles almost perfectly."
   ]
  },
  {
   "cell_type": "markdown",
   "metadata": {
    "id": "EqaFRxFaiklC"
   },
   "source": [
    "### Plot the loss curves\n",
    "\n",
    "Looking at the plots above, we can see the outputs of our model are very good.\n",
    "\n",
    "But how did our model go whilst it was learning?\n",
    "\n",
    "As in, how did the performance change everytime the model had a chance to look at the data (once every epoch)?\n",
    "\n",
    "To figure this out, we can check the **loss curves** (also referred to as the **learning curves**).\n",
    "\n",
    "You might've seen we've been using the variable `history` when calling the `fit()` function on a model ([`fit()` returns a `History` object](https://www.tensorflow.org/api_docs/python/tf/keras/Model#fit)).\n",
    "\n",
    "This is where we'll get the information for how our model is performing as it learns.\n",
    "\n",
    "Let's see how we might use it."
   ]
  },
  {
   "cell_type": "code",
   "execution_count": null,
   "metadata": {
    "colab": {
     "base_uri": "https://localhost:8080/",
     "height": 809
    },
    "id": "sBHuMm9mpoOz",
    "outputId": "fba97964-ba87-4d5c-91ee-cc5d542e973d"
   },
   "outputs": [],
   "source": [
    "# You can access the information in the history variable using the .history attribute\n",
    "pd.DataFrame(history.history)"
   ]
  },
  {
   "cell_type": "markdown",
   "metadata": {
    "id": "mblFGnDap48J"
   },
   "source": [
    "Inspecting the outputs, we can see the loss values going down and the accuracy going up. \n",
    "\n",
    "How's it look (visualize, visualize, visualize)?"
   ]
  },
  {
   "cell_type": "code",
   "execution_count": null,
   "metadata": {
    "colab": {
     "base_uri": "https://localhost:8080/",
     "height": 297
    },
    "id": "mqlwnZGJpYNF",
    "outputId": "d353a50b-29cb-446d-a2da-e8d58728bd8c"
   },
   "outputs": [],
   "source": [
    "# Plot the loss curves\n",
    "pd.DataFrame(history.history).plot()\n",
    "plt.title(\"Model_8 training curves\")"
   ]
  },
  {
   "cell_type": "markdown",
   "metadata": {
    "id": "mofXV4znqmNh"
   },
   "source": [
    "Beautiful. This is the ideal plot we'd be looking for when dealing with a classification problem, loss going down, accuracy going up.\n",
    "\n",
    "> 🔑 **Note:** For many problems, the loss function going down means the model is improving (the predictions it's making are getting closer to the ground truth labels)."
   ]
  },
  {
   "cell_type": "markdown",
   "metadata": {
    "id": "QyZA0CYLir5-"
   },
   "source": [
    "### Finding the best learning rate\n",
    "\n",
    "Aside from the architecture itself (the layers, number of neurons, activations, etc), the most important hyperparameter you can tune for your neural network models is the **learning rate**.\n",
    "\n",
    "In `model_8` you saw we lowered the Adam optimizer's learning rate from the default of `0.001` (default) to `0.01`.\n",
    "\n",
    "And you might be wondering why we did this.\n",
    "\n",
    "Put it this way, it was a lucky guess.\n",
    "\n",
    "I just decided to try a lower learning rate and see how the model went.\n",
    "\n",
    "Now you might be thinking, \"Seriously? You can do that?\"\n",
    "\n",
    "And the answer is yes. You can change any of the hyperparamaters of your neural networks.\n",
    "\n",
    "With practice, you'll start to see what kind of hyperparameters work and what don't.\n",
    "\n",
    "That's an important thing to understand about machine learning and deep learning in general. It's very experimental. You build a model and evaluate it, build a model and evaluate it.\n",
    "\n",
    "That being said, I want to introduce you a trick which will help you find the optimal learning rate (at least to begin training with) for your models going forward.\n",
    "\n",
    "To do so, we're going to use the following:\n",
    "* A [learning rate **callback**](https://www.tensorflow.org/api_docs/python/tf/keras/callbacks/LearningRateScheduler).\n",
    "   * You can think of a callback as an extra piece of functionality you can add to your model *while* its training.\n",
    "* Another model (we could use the same ones as above, we we're practicing building models here).\n",
    "* A modified loss curves plot.\n",
    "\n",
    "We'll go through each with code, then explain what's going on.\n",
    "\n",
    "> 🔑 **Note:** The default hyperparameters of many neural network building blocks in TensorFlow are setup in a way which usually work right out of the box (e.g. the [Adam optimizer's](https://www.tensorflow.org/api_docs/python/tf/keras/optimizers/Adam) default settings can usually get good results on many datasets). So it's a good idea to try the defaults first, then adjust as needed."
   ]
  },
  {
   "cell_type": "code",
   "execution_count": null,
   "metadata": {
    "colab": {
     "base_uri": "https://localhost:8080/"
    },
    "id": "3g05waDawhsZ",
    "outputId": "70dbc308-9822-4517-82ee-2dc441e551fc"
   },
   "outputs": [],
   "source": [
    "# Set random seed\n",
    "tf.random.set_seed(42)\n",
    "\n",
    "# Create a model (same as model_8)\n",
    "model_9 = tf.keras.Sequential([\n",
    "  tf.keras.layers.Dense(4, activation=\"relu\"),\n",
    "  tf.keras.layers.Dense(4, activation=\"relu\"),\n",
    "  tf.keras.layers.Dense(1, activation=\"sigmoid\")\n",
    "])\n",
    "\n",
    "# Compile the model\n",
    "model_9.compile(loss=\"binary_crossentropy\", # we can use strings here too\n",
    "              optimizer=\"Adam\", # same as tf.keras.optimizers.Adam() with default settings\n",
    "              metrics=[\"accuracy\"]) \n",
    "\n",
    "# Create a learning rate scheduler callback\n",
    "lr_scheduler = tf.keras.callbacks.LearningRateScheduler(lambda epoch: 1e-4 * 10**(epoch/20)) # traverse a set of learning rate values starting from 1e-4, increasing by 10**(epoch/20) every epoch\n",
    "\n",
    "# Fit the model (passing the lr_scheduler callback)\n",
    "history = model_9.fit(X_train, \n",
    "                      y_train, \n",
    "                      epochs=100,\n",
    "                      callbacks=[lr_scheduler])"
   ]
  },
  {
   "cell_type": "markdown",
   "metadata": {
    "id": "KKln6dnbNPVR"
   },
   "source": [
    "Now our model has finished training, let's have a look at the training history."
   ]
  },
  {
   "cell_type": "code",
   "execution_count": null,
   "metadata": {
    "colab": {
     "base_uri": "https://localhost:8080/",
     "height": 442
    },
    "id": "wCd12upnyO4y",
    "outputId": "a5cdbbbc-0571-4aa2-ee6e-4f234d4a058f"
   },
   "outputs": [],
   "source": [
    "# Checkout the history\n",
    "pd.DataFrame(history.history).plot(figsize=(10,7), xlabel=\"epochs\");"
   ]
  },
  {
   "cell_type": "markdown",
   "metadata": {
    "id": "9OkUFgZSx6hP"
   },
   "source": [
    "As you you see the learning rate exponentially increases as the number of epochs increases.\n",
    "\n",
    "And you can see the model's accuracy goes up (and loss goes down) at a specific point when the learning rate slowly increases.\n",
    "\n",
    "To figure out where this infliction point is, we can plot the loss versus the log-scale learning rate."
   ]
  },
  {
   "cell_type": "code",
   "execution_count": null,
   "metadata": {
    "colab": {
     "base_uri": "https://localhost:8080/",
     "height": 462
    },
    "id": "8fnEklbYyGBG",
    "outputId": "73537b62-1087-4a00-810e-e08f67ed7601"
   },
   "outputs": [],
   "source": [
    "# Plot the learning rate versus the loss\n",
    "lrs = 1e-4 * (10 ** (np.arange(100)/20))\n",
    "plt.figure(figsize=(10, 7))\n",
    "plt.semilogx(lrs, history.history[\"loss\"]) # we want the x-axis (learning rate) to be log scale\n",
    "plt.xlabel(\"Learning Rate\")\n",
    "plt.ylabel(\"Loss\")\n",
    "plt.title(\"Learning rate vs. loss\");"
   ]
  },
  {
   "cell_type": "markdown",
   "metadata": {
    "id": "w0kMFKLvOF8s"
   },
   "source": [
    "To figure out the ideal value of the learning rate (at least the ideal value to *begin* training our model), the rule of thumb is to take the learning rate value where the loss is still decreasing but not quite flattened out (usually about 10x smaller than the bottom of the curve).\n",
    "\n",
    "In this case, our ideal learning rate ends up between `0.01` ($10^{-2}$) and `0.02`.\n",
    "\n",
    "![finding the ideal learning rate by plotting learning rate vs. loss](https://raw.githubusercontent.com/mrdbourke/tensorflow-deep-learning/main/images/02-learning-rate-vs-loss.png)\n",
    "\n",
    "*The ideal learning rate at the start of model training is somewhere just before the loss curve bottoms out (a value where the loss is still decreasing).*"
   ]
  },
  {
   "cell_type": "code",
   "execution_count": null,
   "metadata": {
    "colab": {
     "base_uri": "https://localhost:8080/"
    },
    "id": "vJo-nDw4zFfx",
    "outputId": "e81957e0-8691-4fed-89fe-b25033536218"
   },
   "outputs": [],
   "source": [
    "# Example of other typical learning rate values\n",
    "10**0, 10**-1, 10**-2, 10**-3, 1e-4"
   ]
  },
  {
   "cell_type": "markdown",
   "metadata": {
    "id": "iALar-WvPlEc"
   },
   "source": [
    "Now we've estimated the ideal learning rate (we'll use `0.02`) for our model, let's refit it."
   ]
  },
  {
   "cell_type": "code",
   "execution_count": null,
   "metadata": {
    "colab": {
     "base_uri": "https://localhost:8080/"
    },
    "id": "EJ9wbXblzPPL",
    "outputId": "87ce33cf-db28-4729-fa29-225da09a1d85"
   },
   "outputs": [],
   "source": [
    "# Set the random seed\n",
    "tf.random.set_seed(42)\n",
    "\n",
    "# Create the model\n",
    "model_10 = tf.keras.Sequential([\n",
    "  tf.keras.layers.Dense(4, activation=\"relu\"),\n",
    "  tf.keras.layers.Dense(4, activation=\"relu\"),\n",
    "  tf.keras.layers.Dense(1, activation=\"sigmoid\")\n",
    "])\n",
    "\n",
    "# Compile the model with the ideal learning rate\n",
    "model_10.compile(loss=\"binary_crossentropy\",\n",
    "                optimizer=tf.keras.optimizers.Adam(learning_rate=0.02), # to adjust the learning rate, you need to use tf.keras.optimizers.Adam (not \"adam\")\n",
    "                metrics=[\"accuracy\"])\n",
    "\n",
    "# Fit the model for 20 epochs (5 less than before)\n",
    "history = model_10.fit(X_train, y_train, epochs=20)"
   ]
  },
  {
   "cell_type": "markdown",
   "metadata": {
    "id": "qb9xwISc0pnF"
   },
   "source": [
    "Nice! With a little higher learning rate (`0.02` instead of `0.01`) we reach a higher accuracy than `model_8` in less epochs (`20` instead of `25`).\n",
    "\n",
    "> 🛠 **Practice:** Now you've seen an example of what can happen when you change the learning rate, try changing the learning rate value in the [TensorFlow Playground](https://playground.tensorflow.org/#activation=tanh&batchSize=10&dataset=circle&regDataset=reg-plane&learningRate=0.03&regularizationRate=0&noise=0&networkShape=4,2&seed=0.03154&showTestData=false&discretize=false&percTrainData=50&x=true&y=true&xTimesY=false&xSquared=false&ySquared=false&cosX=false&sinX=false&cosY=false&sinY=false&collectStats=false&problem=classification&initZero=false&hideText=false&regularization_hide=true&regularizationRate_hide=true&problem_hide=true) and see what happens. What happens if you increase it? What happens if you decrease it?\n",
    "\n"
   ]
  },
  {
   "cell_type": "code",
   "execution_count": null,
   "metadata": {
    "colab": {
     "base_uri": "https://localhost:8080/"
    },
    "id": "3ZCYAqitKUk2",
    "outputId": "4bbeca0a-03d9-4e04-ad6d-1ffed9bb46d3"
   },
   "outputs": [],
   "source": [
    "# Evaluate model on the test dataset\n",
    "model_10.evaluate(X_test, y_test)"
   ]
  },
  {
   "cell_type": "markdown",
   "metadata": {
    "id": "YWqQShzZKT7R"
   },
   "source": [
    "\n",
    "\n",
    "Let's see how the predictions look."
   ]
  },
  {
   "cell_type": "code",
   "execution_count": null,
   "metadata": {
    "colab": {
     "base_uri": "https://localhost:8080/",
     "height": 422
    },
    "id": "rJbzQ5kQ2HSh",
    "outputId": "30a1882e-c05e-433f-8436-71ea808dc472"
   },
   "outputs": [],
   "source": [
    "# Plot the decision boundaries for the training and test sets\n",
    "plt.figure(figsize=(12, 6))\n",
    "plt.subplot(1, 2, 1)\n",
    "plt.title(\"Train\")\n",
    "plot_decision_boundary(model_10, X=X_train, y=y_train)\n",
    "plt.subplot(1, 2, 2)\n",
    "plt.title(\"Test\")\n",
    "plot_decision_boundary(model_10, X=X_test, y=y_test)\n",
    "plt.show()"
   ]
  },
  {
   "cell_type": "markdown",
   "metadata": {
    "id": "ppVLzAao2Hkl"
   },
   "source": [
    "And as we can see, almost perfect again.\n",
    "\n",
    "These are the kind of experiments you'll be running often when building your own models.\n",
    "\n",
    "Start with default settings and see how they perform on your data.\n",
    "\n",
    "And if they don't perform as well as you'd like, improve them.\n",
    "\n",
    "Let's look at a few more ways to evaluate our classification models."
   ]
  },
  {
   "cell_type": "markdown",
   "metadata": {
    "id": "0bNdy1EbftYp"
   },
   "source": [
    "### More classification evaluation methods\n",
    "\n",
    "Alongside the visualizations we've been making, there are a number of different evaluation metrics we can use to evaluate our classification models.\n",
    "\n",
    "| **Metric name/Evaluation method** | **Defintion** | **Code** |\n",
    "| --- | --- | --- |\n",
    "| Accuracy | Out of 100 predictions, how many does your model get correct? E.g. 95% accuracy means it gets 95/100 predictions correct. | [`sklearn.metrics.accuracy_score()`](https://scikit-learn.org/stable/modules/generated/sklearn.metrics.accuracy_score.html) or [`tf.keras.metrics.Accuracy()`](tensorflow.org/api_docs/python/tf/keras/metrics/Accuracy) |\n",
    "| Precision | Proportion of true positives over total number of samples. Higher precision leads to less false positives (model predicts 1 when it should've been 0). | [`sklearn.metrics.precision_score()`](https://scikit-learn.org/stable/modules/generated/sklearn.metrics.precision_score.html) or [`tf.keras.metrics.Precision()`](tensorflow.org/api_docs/python/tf/keras/metrics/Precision) |\n",
    "| Recall | Proportion of true positives over total number of true positives and false negatives (model predicts 0 when it should've been 1). Higher recall leads to less false negatives. | [`sklearn.metrics.recall_score()`](https://scikit-learn.org/stable/modules/generated/sklearn.metrics.recall_score.html) or [`tf.keras.metrics.Recall()`](tensorflow.org/api_docs/python/tf/keras/metrics/Recall) |\n",
    "| F1-score | Combines precision and recall into one metric. 1 is best, 0 is worst. | [`sklearn.metrics.f1_score()`](https://scikit-learn.org/stable/modules/generated/sklearn.metrics.f1_score.html) |\n",
    "| [Confusion matrix](https://www.dataschool.io/simple-guide-to-confusion-matrix-terminology/)  | Compares the predicted values with the true values in a tabular way, if 100% correct, all values in the matrix will be top left to bottom right (diagnol line). | Custom function or [`sklearn.metrics.plot_confusion_matrix()`](https://scikit-learn.org/stable/modules/generated/sklearn.metrics.plot_confusion_matrix.html) |\n",
    "| Classification report | Collection of some of the main classification metrics such as precision, recall and f1-score. | [`sklearn.metrics.classification_report()`](https://scikit-learn.org/stable/modules/generated/sklearn.metrics.classification_report.html) |\n",
    "\n",
    "> 🔑 **Note:** Every classification problem will require different kinds of evaluation methods. But you should be familiar with at least the ones above.\n",
    "\n",
    "Let's start with accuracy.\n",
    "\n",
    "Because we passed `[\"accuracy\"]` to the `metrics` parameter when we compiled our model, calling `evaluate()` on it will return the loss as well as accuracy."
   ]
  },
  {
   "cell_type": "code",
   "execution_count": null,
   "metadata": {
    "colab": {
     "base_uri": "https://localhost:8080/"
    },
    "id": "LUvEwzqp4zVW",
    "outputId": "116a2911-41b1-48bf-b35c-ebfefebfb2d4"
   },
   "outputs": [],
   "source": [
    "# Check the accuracy of our model\n",
    "loss, accuracy = model_10.evaluate(X_test, y_test)\n",
    "print(f\"Model loss on test set: {loss}\")\n",
    "print(f\"Model accuracy on test set: {(accuracy*100):.2f}%\")"
   ]
  },
  {
   "cell_type": "markdown",
   "metadata": {
    "id": "a5fXPTGi5aRX"
   },
   "source": [
    "How about a confusion matrix?\n",
    "\n",
    "![anatomy of a confusion matrix](https://raw.githubusercontent.com/mrdbourke/tensorflow-deep-learning/main/images/02-anatomy-of-a-confusion-matrix.png)\n",
    "*Anatomy of a confusion matrix (what we're going to be creating). Correct predictions appear down the diagonal (from top left to bottom right).*\n",
    "\n",
    "We can make a confusion matrix using [Scikit-Learn's `confusion_matrix`](https://scikit-learn.org/stable/modules/generated/sklearn.metrics.confusion_matrix.html) method."
   ]
  },
  {
   "cell_type": "code",
   "execution_count": null,
   "metadata": {
    "colab": {
     "base_uri": "https://localhost:8080/",
     "height": 158
    },
    "id": "dea1qPbdaYKY",
    "outputId": "e97012cb-b945-4b5d-deab-953a9c8a7854"
   },
   "outputs": [],
   "source": [
    "#y_test, y_preds"
   ]
  },
  {
   "cell_type": "code",
   "execution_count": null,
   "metadata": {
    "colab": {
     "base_uri": "https://localhost:8080/",
     "height": 331
    },
    "id": "g_Zee4lI5vi2",
    "outputId": "27023dd6-b2bc-4f01-b24f-979ce6237114"
   },
   "outputs": [],
   "source": [
    "# Create a confusion matrix\n",
    "from sklearn.metrics import confusion_matrix\n",
    "\n",
    "# Make predictions\n",
    "y_preds = model_10.predict(X_test)\n",
    "\n",
    "# Create confusion matrix\n",
    "#confusion_matrix(y_test, y_preds)"
   ]
  },
  {
   "cell_type": "markdown",
   "metadata": {
    "id": "4GLOPxx9fx__"
   },
   "source": [
    "Ahh, it seems our predictions aren't in the format they need to be.\n",
    "\n",
    "Let's check them out."
   ]
  },
  {
   "cell_type": "code",
   "execution_count": null,
   "metadata": {
    "colab": {
     "base_uri": "https://localhost:8080/"
    },
    "id": "aLBs249Gfu-W",
    "outputId": "6be3c91f-4bef-45b0-c568-ea7d497ea8e2"
   },
   "outputs": [],
   "source": [
    "# View the first 10 predictions\n",
    "y_preds[:10]"
   ]
  },
  {
   "cell_type": "markdown",
   "metadata": {
    "id": "zacw9BNegVkY"
   },
   "source": [
    "What about our test labels?"
   ]
  },
  {
   "cell_type": "code",
   "execution_count": null,
   "metadata": {
    "colab": {
     "base_uri": "https://localhost:8080/"
    },
    "id": "3BH8XHAegYMd",
    "outputId": "6faa5ea0-e910-4c95-ae5b-0a52481df3ff"
   },
   "outputs": [],
   "source": [
    "# View the first 10 test labels\n",
    "y_test[:10]"
   ]
  },
  {
   "cell_type": "markdown",
   "metadata": {
    "id": "4vd8EA95ggks"
   },
   "source": [
    "It looks like we need to get our predictions into the binary format (0 or 1).\n",
    "\n",
    "But you might be wondering, what format are they currently in?\n",
    "\n",
    "In their current format (`9.8526537e-01`), they're in a form called **prediction probabilities**.\n",
    "\n",
    "You'll see this often with the outputs of neural networks. Often they won't be exact values but more a probability of how *likely* they are to be one value or another.\n",
    "\n",
    "So one of the steps you'll often see after making predicitons with a neural network is converting the prediction probabilities into labels.\n",
    "\n",
    "In our case, since our ground truth labels (`y_test`) are binary (0 or 1), we can convert the prediction probabilities using to their binary form using [`tf.round()`](https://www.tensorflow.org/api_docs/python/tf/math/round)."
   ]
  },
  {
   "cell_type": "code",
   "execution_count": null,
   "metadata": {
    "colab": {
     "base_uri": "https://localhost:8080/"
    },
    "id": "YaS_yvGA6KV3",
    "outputId": "4028dcb2-ac47-4ee5-9a82-3d357f400fd5"
   },
   "outputs": [],
   "source": [
    "# Convert prediction probabilities to binary format and view the first 10\n",
    "tf.round(y_preds)[:10]"
   ]
  },
  {
   "cell_type": "markdown",
   "metadata": {
    "id": "mLvWYgFIh_A9"
   },
   "source": [
    "Wonderful! Now we can use the `confusion_matrix` function."
   ]
  },
  {
   "cell_type": "code",
   "execution_count": null,
   "metadata": {
    "colab": {
     "base_uri": "https://localhost:8080/"
    },
    "id": "GEZx1WHCiC8n",
    "outputId": "c1a6c558-09ae-4fe0-d2c1-73cbc4331fab"
   },
   "outputs": [],
   "source": [
    "# Create a confusion matrix\n",
    "confusion_matrix(y_test, tf.round(y_preds))"
   ]
  },
  {
   "cell_type": "markdown",
   "metadata": {
    "id": "VY1LmNeTiKHl"
   },
   "source": [
    "Alright, we can see the highest numbers are down the diagonal (from top left to bottom right) so this a good sign, but the rest of the matrix doesn't really tell us much.\n",
    "\n",
    "How about we make a function to make our confusion matrix a little more visual?"
   ]
  },
  {
   "cell_type": "code",
   "execution_count": null,
   "metadata": {
    "colab": {
     "base_uri": "https://localhost:8080/",
     "height": 580
    },
    "id": "IIPSs9ERi78w",
    "outputId": "e735e3c6-06a2-4ae1-99bd-a25157d54876"
   },
   "outputs": [],
   "source": [
    "# Note: The following confusion matrix code is a remix of Scikit-Learn's \n",
    "# plot_confusion_matrix function - https://scikit-learn.org/stable/modules/generated/sklearn.metrics.plot_confusion_matrix.html\n",
    "# and Made with ML's introductory notebook - https://github.com/GokuMohandas/MadeWithML/blob/main/notebooks/08_Neural_Networks.ipynb \n",
    "import itertools\n",
    "\n",
    "figsize = (10, 10)\n",
    "\n",
    "# Create the confusion matrix\n",
    "cm = confusion_matrix(y_test, tf.round(y_preds))\n",
    "cm_norm = cm.astype(\"float\") / cm.sum(axis=1)[:, np.newaxis] # normalize it\n",
    "n_classes = cm.shape[0]\n",
    "\n",
    "# Let's prettify it\n",
    "fig, ax = plt.subplots(figsize=figsize)\n",
    "# Create a matrix plot\n",
    "cax = ax.matshow(cm, cmap=plt.cm.Blues) # https://matplotlib.org/3.2.0/api/_as_gen/matplotlib.axes.Axes.matshow.html\n",
    "fig.colorbar(cax)\n",
    "\n",
    "# Create classes\n",
    "classes = False\n",
    "\n",
    "if classes:\n",
    "  labels = classes\n",
    "else:\n",
    "  labels = np.arange(cm.shape[0])\n",
    "\n",
    "# Label the axes\n",
    "ax.set(title=\"Confusion Matrix\",\n",
    "       xlabel=\"Predicted label\",\n",
    "       ylabel=\"True label\",\n",
    "       xticks=np.arange(n_classes),\n",
    "       yticks=np.arange(n_classes),\n",
    "       xticklabels=labels,\n",
    "       yticklabels=labels)\n",
    "\n",
    "# Set x-axis labels to bottom\n",
    "ax.xaxis.set_label_position(\"bottom\")\n",
    "ax.xaxis.tick_bottom()\n",
    "\n",
    "# Adjust label size\n",
    "ax.xaxis.label.set_size(20)\n",
    "ax.yaxis.label.set_size(20)\n",
    "ax.title.set_size(20)\n",
    "\n",
    "# Set threshold for different colors\n",
    "threshold = (cm.max() + cm.min()) / 2.\n",
    "\n",
    "# Plot the text on each cell\n",
    "for i, j in itertools.product(range(cm.shape[0]), range(cm.shape[1])):\n",
    "  plt.text(j, i, f\"{cm[i, j]} ({cm_norm[i, j]*100:.1f}%)\",\n",
    "           horizontalalignment=\"center\",\n",
    "           color=\"white\" if cm[i, j] > threshold else \"black\",\n",
    "           size=15)"
   ]
  },
  {
   "cell_type": "markdown",
   "metadata": {
    "id": "0EaKOeeNnWbq"
   },
   "source": [
    "That looks much better. It seems our model has made almost perfect predictions on the test set except for two false positives (top right corner)."
   ]
  },
  {
   "cell_type": "code",
   "execution_count": null,
   "metadata": {
    "colab": {
     "base_uri": "https://localhost:8080/"
    },
    "id": "ZvNQjM-rk7uE",
    "outputId": "da9a8710-de7f-43b9-fe99-daebfb369603"
   },
   "outputs": [],
   "source": [
    "# What does itertools.product do? Combines two things into each combination\n",
    "import itertools\n",
    "for i, j in itertools.product(range(cm.shape[0]), range(cm.shape[1])):\n",
    "  print(i, j)"
   ]
  },
  {
   "cell_type": "markdown",
   "metadata": {
    "id": "2WLKnUi6fI6B"
   },
   "source": [
    "## Working with a larger example (multiclass classification)\n",
    "\n",
    "We've seen a binary classification example (predicting if a data point is part of a red circle or blue circle) but what if you had multiple different classes of things?\n",
    "\n",
    "For example, say you were a fashion company and you wanted to build a neural network to predict whether a piece of clothing was a shoe, a shirt or a jacket (3 different options).\n",
    "\n",
    "When you have more than two classes as an option, this is known as **multiclass classification**.\n",
    "\n",
    "The good news is, the things we've learned so far (with a few tweaks) can be applied to multiclass classification problems as well.\n",
    "\n",
    "Let's see it in action.\n",
    "\n",
    "To start, we'll need some data. The good thing for us is TensorFlow has a multiclass classication dataset known as [Fashion MNIST built-in](https://github.com/zalandoresearch/fashion-mnist). Meaning we can get started straight away.\n",
    "\n",
    "We can import it using the [`tf.keras.datasets`](https://www.tensorflow.org/api_docs/python/tf/keras/datasets) module.\n",
    "\n",
    "> 📖 **Resource:** The following multiclass classification problem has been adapted from the [TensorFlow classification guide](https://www.tensorflow.org/tutorials/keras/classification). A good exercise would be to once you've gone through the following example, replicate the TensorFlow guide."
   ]
  },
  {
   "cell_type": "code",
   "execution_count": null,
   "metadata": {
    "colab": {
     "base_uri": "https://localhost:8080/"
    },
    "id": "zl50sxPTqpw4",
    "outputId": "f93660cd-d5bb-4052-918b-c3043070cde4"
   },
   "outputs": [],
   "source": [
    "import tensorflow as tf\n",
    "from tensorflow.keras.datasets import fashion_mnist\n",
    "\n",
    "# The data has already been sorted into training and test sets for us\n",
    "(train_data, train_labels), (test_data, test_labels) = fashion_mnist.load_data()"
   ]
  },
  {
   "cell_type": "markdown",
   "metadata": {
    "id": "D6qJforMrCZy"
   },
   "source": [
    "Now let's check out an example."
   ]
  },
  {
   "cell_type": "code",
   "execution_count": null,
   "metadata": {
    "colab": {
     "base_uri": "https://localhost:8080/"
    },
    "id": "8PWdrQsyrBcy",
    "outputId": "a80604cb-e892-4bc2-c817-cad801d89954"
   },
   "outputs": [],
   "source": [
    "# Show the first training example\n",
    "print(f\"Training sample:\\n{train_data[0]}\\n\") \n",
    "print(f\"Training label: {train_labels[0]}\")"
   ]
  },
  {
   "cell_type": "markdown",
   "metadata": {
    "id": "MMqbRp8jrdtv"
   },
   "source": [
    "Woah, we get a large list of numbers, followed (the data) by a single number (the class label).\n",
    "\n",
    "What about the shapes?"
   ]
  },
  {
   "cell_type": "code",
   "execution_count": null,
   "metadata": {
    "colab": {
     "base_uri": "https://localhost:8080/"
    },
    "id": "gN5-jr6arj19",
    "outputId": "b2b7b7f6-fa47-4db3-e877-937ac238d8c5"
   },
   "outputs": [],
   "source": [
    "# Check the shape of our data\n",
    "train_data.shape, train_labels.shape, test_data.shape, test_labels.shape"
   ]
  },
  {
   "cell_type": "code",
   "execution_count": null,
   "metadata": {
    "colab": {
     "base_uri": "https://localhost:8080/"
    },
    "id": "wNfIOUUEsJRt",
    "outputId": "6903f04d-f7c8-4a1a-d5c6-24148dfc9ce3"
   },
   "outputs": [],
   "source": [
    "# Check shape of a single example\n",
    "train_data[0].shape, train_labels[0].shape"
   ]
  },
  {
   "cell_type": "markdown",
   "metadata": {
    "id": "r2wW0cEfsAve"
   },
   "source": [
    "Okay, 60,000 training examples each with shape (28, 28) and a label each as well as 10,000 test examples of shape (28, 28).\n",
    "\n",
    "But these are just numbers, let's visualize."
   ]
  },
  {
   "cell_type": "code",
   "execution_count": null,
   "metadata": {
    "colab": {
     "base_uri": "https://localhost:8080/",
     "height": 264
    },
    "id": "RmC2VsWOscKP",
    "outputId": "fbbd628c-3f83-4edd-c142-b7582e199bca"
   },
   "outputs": [],
   "source": [
    "# Plot a single example\n",
    "import matplotlib.pyplot as plt\n",
    "plt.imshow(train_data[7]);"
   ]
  },
  {
   "cell_type": "markdown",
   "metadata": {
    "id": "sOqirdtfstdQ"
   },
   "source": [
    "Hmm, but what about its label?"
   ]
  },
  {
   "cell_type": "code",
   "execution_count": null,
   "metadata": {
    "colab": {
     "base_uri": "https://localhost:8080/"
    },
    "id": "hzTDEpaYsxga",
    "outputId": "53e85e0a-727a-4e0d-ff63-aac264ef83e2"
   },
   "outputs": [],
   "source": [
    "# Check our samples label\n",
    "train_labels[7]"
   ]
  },
  {
   "cell_type": "markdown",
   "metadata": {
    "id": "ZHdVBrCUs10A"
   },
   "source": [
    "It looks like our labels are in numerical form. And while this is fine for a neural network, you might want to have them in human readable form.\n",
    "\n",
    "Let's create a small list of the class names (we can find them on [the dataset's GitHub page](https://github.com/zalandoresearch/fashion-mnist#labels)).\n",
    "\n",
    "> 🔑 **Note:** Whilst this dataset has been prepared for us and ready to go, it's important to remember many datasets won't be ready to go like this one. Often you'll have to do a few preprocessing steps to have it ready to use with a neural network (we'll see more of this when we work with our own data later)."
   ]
  },
  {
   "cell_type": "code",
   "execution_count": null,
   "metadata": {
    "colab": {
     "base_uri": "https://localhost:8080/"
    },
    "id": "uGOi32T8s1ai",
    "outputId": "94caaec1-1d5c-4bd2-eb16-d7ec5270ae8a"
   },
   "outputs": [],
   "source": [
    "class_names = ['T-shirt/top', 'Trouser', 'Pullover', 'Dress', 'Coat', \n",
    "               'Sandal', 'Shirt', 'Sneaker', 'Bag', 'Ankle boot']\n",
    "\n",
    "# How many classes are there (this'll be our output shape)?\n",
    "len(class_names)"
   ]
  },
  {
   "cell_type": "markdown",
   "metadata": {
    "id": "zOiwINQQtzys"
   },
   "source": [
    "Now we have these, let's plot another example.\n",
    "\n",
    "> 🤔 **Question:** Pay particular attention to what the data we're working with *looks* like. Is it only straight lines? Or does it have non-straight lines as well? Do you think if we wanted to find patterns in the photos of clothes (which are actually collections of pixels), will our model need non-linearities (non-straight lines) or not?"
   ]
  },
  {
   "cell_type": "code",
   "execution_count": null,
   "metadata": {
    "colab": {
     "base_uri": "https://localhost:8080/",
     "height": 281
    },
    "id": "_qD40id2tytn",
    "outputId": "47ce702d-fbd3-46e2-d117-1114c1316cd4"
   },
   "outputs": [],
   "source": [
    "# Plot an example image and its label\n",
    "plt.imshow(train_data[17], cmap=plt.cm.binary) # change the colours to black & white\n",
    "plt.title(class_names[train_labels[17]]);"
   ]
  },
  {
   "cell_type": "code",
   "execution_count": null,
   "metadata": {
    "colab": {
     "base_uri": "https://localhost:8080/",
     "height": 427
    },
    "id": "Rtz9__w3s4JF",
    "outputId": "d2ac8edd-aec7-440b-80a4-d948b5dbb3d3"
   },
   "outputs": [],
   "source": [
    "# Plot multiple random images of fashion MNIST\n",
    "import random\n",
    "plt.figure(figsize=(7, 7))\n",
    "for i in range(4):\n",
    "  ax = plt.subplot(2, 2, i + 1)\n",
    "  rand_index = random.choice(range(len(train_data)))\n",
    "  plt.imshow(train_data[rand_index], cmap=plt.cm.binary)\n",
    "  plt.title(class_names[train_labels[rand_index]])\n",
    "  plt.axis(False)"
   ]
  },
  {
   "cell_type": "markdown",
   "metadata": {
    "id": "TLqZif3Rv0Aq"
   },
   "source": [
    "Alright, let's build a model to figure out the relationship between the pixel values and their labels.\n",
    "\n",
    "Since this is a multiclass classification problem, we'll need to make a few changes to our architecture (inline with Table 1 above):\n",
    "\n",
    "* The **input shape** will have to deal with 28x28 tensors (the height and width of our images).\n",
    "  * We're actually going to squash the input into a tensor (vector) of shape `(784)`.\n",
    "* The **output shape** will have to be 10 because we need our model to predict for 10 different classes.\n",
    "  * We'll also change the `activation` parameter of our output layer to be [`\"softmax\"`](https://www.tensorflow.org/api_docs/python/tf/keras/activations/softmax) instead of `'sigmoid'`. As we'll see the `\"softmax\"` activation function outputs a series of values between 0 & 1 (the same shape as **output shape**, which together add up to ~1. The index with the highest value is predicted by the model to be the most *likely* class.\n",
    "* We'll need to change our loss function from a binary loss function to a multiclass loss function. \n",
    "  * More specifically, since our labels are in integer form, we'll use [`tf.keras.losses.SparseCategoricalCrossentropy()`](https://www.tensorflow.org/versions/r2.0/api_docs/python/tf/keras/losses/SparseCategoricalCrossentropy), if our labels were one-hot encoded (e.g. they looked something like `[0, 0, 1, 0, 0...]`), we'd use [`tf.keras.losses.CategoricalCrossentropy()`](https://www.tensorflow.org/api_docs/python/tf/keras/losses/CategoricalCrossentropy).\n",
    "* We'll also use the `validation_data` parameter when calling the `fit()` function. This will give us an idea of how the model performs on the test set during training.\n",
    "\n",
    "You ready? Let's go."
   ]
  },
  {
   "cell_type": "code",
   "execution_count": null,
   "metadata": {
    "colab": {
     "base_uri": "https://localhost:8080/"
    },
    "id": "qUFHuzIpv30K",
    "outputId": "99f60884-4558-4385-803f-fc2ace3d4758"
   },
   "outputs": [],
   "source": [
    "# Set random seed\n",
    "tf.random.set_seed(42)\n",
    "\n",
    "# Create the model\n",
    "model_11 = tf.keras.Sequential([\n",
    "  tf.keras.layers.Flatten(input_shape=(28, 28)), # input layer (we had to reshape 28x28 to 784, the Flatten layer does this for us)\n",
    "  tf.keras.layers.Dense(4, activation=\"relu\"),\n",
    "  tf.keras.layers.Dense(4, activation=\"relu\"),\n",
    "  tf.keras.layers.Dense(10, activation=\"softmax\") # output shape is 10, activation is softmax\n",
    "])\n",
    "\n",
    "# Compile the model\n",
    "model_11.compile(loss=tf.keras.losses.SparseCategoricalCrossentropy(), # different loss function for multiclass classifcation\n",
    "                 optimizer=tf.keras.optimizers.Adam(),\n",
    "                 metrics=[\"accuracy\"])\n",
    "\n",
    "# Fit the model\n",
    "non_norm_history = model_11.fit(train_data,\n",
    "                                train_labels,\n",
    "                                epochs=10,\n",
    "                                validation_data=(test_data, test_labels)) # see how the model performs on the test set during training"
   ]
  },
  {
   "cell_type": "code",
   "execution_count": null,
   "metadata": {
    "colab": {
     "base_uri": "https://localhost:8080/"
    },
    "id": "3hzYWEgoVJ_p",
    "outputId": "ec3f20e7-6f6d-41a3-9018-ce45b5d75d83"
   },
   "outputs": [],
   "source": [
    "# Check the shapes of our model\n",
    "# Note: the \"None\" in (None, 784) is for batch_size, we'll cover this in a later module\n",
    "model_11.summary()"
   ]
  },
  {
   "cell_type": "markdown",
   "metadata": {
    "id": "XRfkre59zSto"
   },
   "source": [
    "Alright, our model gets to about ~35% accuracy after 10 epochs using a similar style model to what we used on our binary classification problem.\n",
    "\n",
    "Which is better than guessing (guessing with 10 classes would result in about 10% accuracy) but we can do better.\n",
    "\n",
    "Do you remember when we talked about neural networks preferring numbers between 0 and 1? (if not, treat this as a reminder)\n",
    "\n",
    "Well, right now, the data we have isn't between 0 and 1, in other words, it's not normalized (hence why we used the `non_norm_history` variable when calling `fit()`). It's pixel values are between 0 and 255.\n",
    "\n",
    "Let's see."
   ]
  },
  {
   "cell_type": "code",
   "execution_count": null,
   "metadata": {
    "colab": {
     "base_uri": "https://localhost:8080/"
    },
    "id": "tGiweanwz82_",
    "outputId": "50c0f6c5-59e5-4f17-f81a-0ed2ad8ed123"
   },
   "outputs": [],
   "source": [
    "# Check the min and max values of the training data\n",
    "train_data.min(), train_data.max()"
   ]
  },
  {
   "cell_type": "markdown",
   "metadata": {
    "id": "syB7LOk30H0_"
   },
   "source": [
    "We can get these values between 0 and 1 by dividing the entire array by the maximum: `255.0` (dividing by a float also converts to a float).\n",
    "\n",
    "\n",
    "Doing so will result in all of our data being between 0 and 1 (known as **scaling** or **normalization**)."
   ]
  },
  {
   "cell_type": "code",
   "execution_count": null,
   "metadata": {
    "colab": {
     "base_uri": "https://localhost:8080/"
    },
    "id": "ABRKp5U8voV_",
    "outputId": "f592e3ae-6a98-4c78-f0b6-21f29eb07216"
   },
   "outputs": [],
   "source": [
    "# Divide train and test images by the maximum value (normalize it)\n",
    "train_data = train_data / 255.0\n",
    "test_data = test_data / 255.0\n",
    "\n",
    "# Check the min and max values of the training data\n",
    "train_data.min(), train_data.max()"
   ]
  },
  {
   "cell_type": "markdown",
   "metadata": {
    "id": "LeYQEXOf06oo"
   },
   "source": [
    "Beautiful! Now our data is between 0 and 1. Let's see what happens when we model it.\n",
    "\n",
    "We'll use the same model as before (`model_11`) except this time the data will be normalized."
   ]
  },
  {
   "cell_type": "code",
   "execution_count": null,
   "metadata": {
    "colab": {
     "base_uri": "https://localhost:8080/"
    },
    "id": "z1QRy7y_K_87",
    "outputId": "044cfa5f-35bd-40e9-8679-ef4746fa1d18"
   },
   "outputs": [],
   "source": [
    "# Set random seed\n",
    "tf.random.set_seed(42)\n",
    "\n",
    "# Create the model\n",
    "model_12 = tf.keras.Sequential([\n",
    "  tf.keras.layers.Flatten(input_shape=(28, 28)), # input layer (we had to reshape 28x28 to 784)\n",
    "  tf.keras.layers.Dense(4, activation=\"relu\"),\n",
    "  tf.keras.layers.Dense(4, activation=\"relu\"),\n",
    "  tf.keras.layers.Dense(10, activation=\"softmax\") # output shape is 10, activation is softmax\n",
    "])\n",
    "\n",
    "# Compile the model\n",
    "model_12.compile(loss=tf.keras.losses.SparseCategoricalCrossentropy(),\n",
    "                 optimizer=tf.keras.optimizers.Adam(),\n",
    "                 metrics=[\"accuracy\"])\n",
    "\n",
    "# Fit the model (to the normalized data)\n",
    "norm_history = model_12.fit(train_data,\n",
    "                            train_labels,\n",
    "                            epochs=10,\n",
    "                            validation_data=(test_data, test_labels))"
   ]
  },
  {
   "cell_type": "markdown",
   "metadata": {
    "id": "C_I2KNJiMWZ8"
   },
   "source": [
    "Woah, we used the exact same model as before but we with normalized data we're now seeing a much higher accuracy value!\n",
    "\n",
    "Let's plot each model's history (their loss curves)."
   ]
  },
  {
   "cell_type": "code",
   "execution_count": null,
   "metadata": {
    "colab": {
     "base_uri": "https://localhost:8080/",
     "height": 544
    },
    "id": "zmRcYU7xN1wQ",
    "outputId": "f90f27e9-4d4b-4efd-da1c-aff94bf36b0a"
   },
   "outputs": [],
   "source": [
    "import pandas as pd\n",
    "# Plot non-normalized data loss curves\n",
    "pd.DataFrame(non_norm_history.history).plot(title=\"Non-normalized Data\")\n",
    "# Plot normalized data loss curves\n",
    "pd.DataFrame(norm_history.history).plot(title=\"Normalized data\");"
   ]
  },
  {
   "cell_type": "markdown",
   "metadata": {
    "id": "VKm8MsACOm4j"
   },
   "source": [
    "Wow. From these two plots, we can see how much quicker our model with the normalized data (`model_12`) improved than the model with the non-normalized data (`model_11`).\n",
    "\n",
    "> 🔑 **Note:** The same model with even *slightly* different data can produce *dramatically* different results. So when you're comparing models, it's important to make sure you're comparing them on the same criteria (e.g. same architecture but different data or same data but different architecture).\n",
    "\n",
    "How about we find the ideal learning rate and see what happens?\n",
    "\n",
    "We'll use the same architecture we've been using."
   ]
  },
  {
   "cell_type": "code",
   "execution_count": null,
   "metadata": {
    "colab": {
     "base_uri": "https://localhost:8080/"
    },
    "id": "LcR_wb4nPSb2",
    "outputId": "2c1a53ee-f839-44ee-a61b-1efa76bdc868"
   },
   "outputs": [],
   "source": [
    "# Set random seed\n",
    "tf.random.set_seed(42)\n",
    "\n",
    "# Create the model\n",
    "model_13 = tf.keras.Sequential([\n",
    "  tf.keras.layers.Flatten(input_shape=(28, 28)), # input layer (we had to reshape 28x28 to 784)\n",
    "  tf.keras.layers.Dense(4, activation=\"relu\"),\n",
    "  tf.keras.layers.Dense(4, activation=\"relu\"),\n",
    "  tf.keras.layers.Dense(10, activation=\"softmax\") # output shape is 10, activation is softmax\n",
    "])\n",
    "\n",
    "# Compile the model\n",
    "model_13.compile(loss=tf.keras.losses.SparseCategoricalCrossentropy(),\n",
    "                 optimizer=tf.keras.optimizers.Adam(),\n",
    "                 metrics=[\"accuracy\"])\n",
    "\n",
    "# Create the learning rate callback\n",
    "lr_scheduler = tf.keras.callbacks.LearningRateScheduler(lambda epoch: 1e-3 * 10**(epoch/20))\n",
    "\n",
    "# Fit the model\n",
    "find_lr_history = model_13.fit(train_data,\n",
    "                               train_labels,\n",
    "                               epochs=40, # model already doing pretty good with current LR, probably don't need 100 epochs\n",
    "                               validation_data=(test_data, test_labels),\n",
    "                               callbacks=[lr_scheduler])"
   ]
  },
  {
   "cell_type": "code",
   "execution_count": null,
   "metadata": {
    "colab": {
     "base_uri": "https://localhost:8080/",
     "height": 298
    },
    "id": "Hi2YODTwQ1ie",
    "outputId": "2bb0d07c-c45b-42df-d20d-59a796fc02fb"
   },
   "outputs": [],
   "source": [
    "# Plot the learning rate decay curve\n",
    "import numpy as np\n",
    "import matplotlib.pyplot as plt\n",
    "lrs = 1e-3 * (10**(np.arange(40)/20))\n",
    "plt.semilogx(lrs, find_lr_history.history[\"loss\"]) # want the x-axis to be log-scale\n",
    "plt.xlabel(\"Learning rate\")\n",
    "plt.ylabel(\"Loss\")\n",
    "plt.title(\"Finding the ideal learning rate\");"
   ]
  },
  {
   "cell_type": "markdown",
   "metadata": {
    "id": "GqtOjggqWcfS"
   },
   "source": [
    "In this case, it looks like somewhere close to the default learning rate of the [Adam optimizer](https://www.tensorflow.org/api_docs/python/tf/keras/optimizers/Adam) (`0.001`) is the ideal learning rate.\n",
    "\n",
    "Let's refit a model using the ideal learning rate."
   ]
  },
  {
   "cell_type": "code",
   "execution_count": null,
   "metadata": {
    "colab": {
     "base_uri": "https://localhost:8080/"
    },
    "id": "i9KFhAwKXjWd",
    "outputId": "f6787646-09e1-4c31-eb77-b23497852393"
   },
   "outputs": [],
   "source": [
    "# Set random seed\n",
    "tf.random.set_seed(42)\n",
    "\n",
    "# Create the model\n",
    "model_14 = tf.keras.Sequential([\n",
    "  tf.keras.layers.Flatten(input_shape=(28, 28)), # input layer (we had to reshape 28x28 to 784)\n",
    "  tf.keras.layers.Dense(4, activation=\"relu\"),\n",
    "  tf.keras.layers.Dense(4, activation=\"relu\"),\n",
    "  tf.keras.layers.Dense(10, activation=\"softmax\") # output shape is 10, activation is softmax\n",
    "])\n",
    "\n",
    "# Compile the model\n",
    "model_14.compile(loss=tf.keras.losses.SparseCategoricalCrossentropy(),\n",
    "                 optimizer=tf.keras.optimizers.Adam(learning_rate=0.001), # ideal learning rate (same as default)\n",
    "                 metrics=[\"accuracy\"])\n",
    "\n",
    "# Fit the model\n",
    "history = model_14.fit(train_data,\n",
    "                       train_labels,\n",
    "                       epochs=20,\n",
    "                       validation_data=(test_data, test_labels))"
   ]
  },
  {
   "cell_type": "markdown",
   "metadata": {
    "id": "1ODWXAlnWqri"
   },
   "source": [
    "Now we've got a model trained with a close-to-ideal learning rate and performing pretty well, we've got a couple of options.\n",
    "\n",
    "We could:\n",
    "* Evaluate its performance using other classification metrics (such as a [confusion matrix](https://scikit-learn.org/stable/auto_examples/model_selection/plot_confusion_matrix.html#sphx-glr-auto-examples-model-selection-plot-confusion-matrix-py) or [classification report](https://scikit-learn.org/stable/modules/generated/sklearn.metrics.classification_report.html)).\n",
    "* Assess some of its predictions (through visualizations).\n",
    "* Improve its accuracy (by training it for longer or changing the architecture).\n",
    "* Save and export it for use in an application.\n",
    "\n",
    "Let's go through the first two options.\n",
    "\n",
    "First we'll create a classification matrix to visualize its predictions across the different classes."
   ]
  },
  {
   "cell_type": "code",
   "execution_count": null,
   "metadata": {
    "id": "jK4zA47sYVp5"
   },
   "outputs": [],
   "source": [
    "# Note: The following confusion matrix code is a remix of Scikit-Learn's \n",
    "# plot_confusion_matrix function - https://scikit-learn.org/stable/modules/generated/sklearn.metrics.plot_confusion_matrix.html\n",
    "# and Made with ML's introductory notebook - https://github.com/GokuMohandas/MadeWithML/blob/main/notebooks/08_Neural_Networks.ipynb\n",
    "import itertools\n",
    "from sklearn.metrics import confusion_matrix\n",
    "\n",
    "# Our function needs a different name to sklearn's plot_confusion_matrix\n",
    "def make_confusion_matrix(y_true, y_pred, classes=None, figsize=(10, 10), text_size=15): \n",
    "  \"\"\"Makes a labelled confusion matrix comparing predictions and ground truth labels.\n",
    "\n",
    "  If classes is passed, confusion matrix will be labelled, if not, integer class values\n",
    "  will be used.\n",
    "\n",
    "  Args:\n",
    "    y_true: Array of truth labels (must be same shape as y_pred).\n",
    "    y_pred: Array of predicted labels (must be same shape as y_true).\n",
    "    classes: Array of class labels (e.g. string form). If `None`, integer labels are used.\n",
    "    figsize: Size of output figure (default=(10, 10)).\n",
    "    text_size: Size of output figure text (default=15).\n",
    "  \n",
    "  Returns:\n",
    "    A labelled confusion matrix plot comparing y_true and y_pred.\n",
    "\n",
    "  Example usage:\n",
    "    make_confusion_matrix(y_true=test_labels, # ground truth test labels\n",
    "                          y_pred=y_preds, # predicted labels\n",
    "                          classes=class_names, # array of class label names\n",
    "                          figsize=(15, 15),\n",
    "                          text_size=10)\n",
    "  \"\"\"  \n",
    "  # Create the confustion matrix\n",
    "  cm = confusion_matrix(y_true, y_pred)\n",
    "  cm_norm = cm.astype(\"float\") / cm.sum(axis=1)[:, np.newaxis] # normalize it\n",
    "  n_classes = cm.shape[0] # find the number of classes we're dealing with\n",
    "\n",
    "  # Plot the figure and make it pretty\n",
    "  fig, ax = plt.subplots(figsize=figsize)\n",
    "  cax = ax.matshow(cm, cmap=plt.cm.Blues) # colors will represent how 'correct' a class is, darker == better\n",
    "  fig.colorbar(cax)\n",
    "\n",
    "  # Are there a list of classes?\n",
    "  if classes:\n",
    "    labels = classes\n",
    "  else:\n",
    "    labels = np.arange(cm.shape[0])\n",
    "  \n",
    "  # Label the axes\n",
    "  ax.set(title=\"Confusion Matrix\",\n",
    "         xlabel=\"Predicted label\",\n",
    "         ylabel=\"True label\",\n",
    "         xticks=np.arange(n_classes), # create enough axis slots for each class\n",
    "         yticks=np.arange(n_classes), \n",
    "         xticklabels=labels, # axes will labeled with class names (if they exist) or ints\n",
    "         yticklabels=labels)\n",
    "  \n",
    "  # Make x-axis labels appear on bottom\n",
    "  ax.xaxis.set_label_position(\"bottom\")\n",
    "  ax.xaxis.tick_bottom()\n",
    "\n",
    "  # Set the threshold for different colors\n",
    "  threshold = (cm.max() + cm.min()) / 2.\n",
    "\n",
    "  # Plot the text on each cell\n",
    "  for i, j in itertools.product(range(cm.shape[0]), range(cm.shape[1])):\n",
    "    plt.text(j, i, f\"{cm[i, j]} ({cm_norm[i, j]*100:.1f}%)\",\n",
    "             horizontalalignment=\"center\",\n",
    "             color=\"white\" if cm[i, j] > threshold else \"black\",\n",
    "             size=text_size)"
   ]
  },
  {
   "cell_type": "markdown",
   "metadata": {
    "id": "Mi5kNRyZdyXA"
   },
   "source": [
    "Since a confusion matrix compares the truth labels (`test_labels`) to the predicted labels, we have to make some predictions with our model."
   ]
  },
  {
   "cell_type": "code",
   "execution_count": null,
   "metadata": {
    "colab": {
     "base_uri": "https://localhost:8080/"
    },
    "id": "HhxrXhrjbjja",
    "outputId": "2929500a-916d-4786-a66f-6be9718dad8c"
   },
   "outputs": [],
   "source": [
    "# Make predictions with the most recent model\n",
    "y_probs = model_14.predict(test_data) # \"probs\" is short for probabilities\n",
    "\n",
    "# View the first 5 predictions\n",
    "y_probs[:5]"
   ]
  },
  {
   "cell_type": "markdown",
   "metadata": {
    "id": "eP5zslXbf5ZY"
   },
   "source": [
    "Our model outputs a list of **prediction probabilities**, meaning, it outputs a number for how likely it thinks a particular class is to be the label.\n",
    "\n",
    "The higher the number in the prediction probabilities list, the more likely the model believes that is the right class.\n",
    "\n",
    "To find the highest value we can use the [`argmax()`](https://numpy.org/doc/stable/reference/generated/numpy.argmax.html) method."
   ]
  },
  {
   "cell_type": "code",
   "execution_count": null,
   "metadata": {
    "colab": {
     "base_uri": "https://localhost:8080/"
    },
    "id": "hQvrJbbWf4Es",
    "outputId": "b3775d6b-3e4c-4536-b58f-a52c6fe37d6b"
   },
   "outputs": [],
   "source": [
    "# See the predicted class number and label for the first example\n",
    "y_probs[0].argmax(), class_names[y_probs[0].argmax()]"
   ]
  },
  {
   "cell_type": "markdown",
   "metadata": {
    "id": "BFPgnBCghrTz"
   },
   "source": [
    "Now let's do the same for all of the predictions."
   ]
  },
  {
   "cell_type": "code",
   "execution_count": null,
   "metadata": {
    "colab": {
     "base_uri": "https://localhost:8080/"
    },
    "id": "ozUpeZU6g2An",
    "outputId": "f2b9e764-e4c6-47e7-be6b-2a0de70868b7"
   },
   "outputs": [],
   "source": [
    "# Convert all of the predictions from probabilities to labels\n",
    "y_preds = y_probs.argmax(axis=1)\n",
    "\n",
    "# View the first 10 prediction labels\n",
    "y_preds[:10]"
   ]
  },
  {
   "cell_type": "markdown",
   "metadata": {
    "id": "47g1wNk6iYTd"
   },
   "source": [
    "Wonderful, now we've got our model's predictions in label form, let's create a confusion matrix to view them against the truth labels."
   ]
  },
  {
   "cell_type": "code",
   "execution_count": null,
   "metadata": {
    "colab": {
     "base_uri": "https://localhost:8080/"
    },
    "id": "FBMSVSRqcU_m",
    "outputId": "9dc4bb12-04cf-4dd9-bd8a-34fd2536f20d"
   },
   "outputs": [],
   "source": [
    "# Check out the non-prettified confusion matrix\n",
    "from sklearn.metrics import confusion_matrix\n",
    "confusion_matrix(y_true=test_labels, \n",
    "                 y_pred=y_preds)"
   ]
  },
  {
   "cell_type": "markdown",
   "metadata": {
    "id": "ql-TQxuYiqPl"
   },
   "source": [
    "That confusion matrix is hard to comprehend, let's make it prettier using the function we created before."
   ]
  },
  {
   "cell_type": "code",
   "execution_count": null,
   "metadata": {
    "colab": {
     "base_uri": "https://localhost:8080/",
     "height": 851
    },
    "id": "DLr6daZAbzRi",
    "outputId": "e34c9fe2-9050-425c-882d-9a62ed63ed94"
   },
   "outputs": [],
   "source": [
    "# Make a prettier confusion matrix\n",
    "make_confusion_matrix(y_true=test_labels, \n",
    "                      y_pred=y_preds,\n",
    "                      classes=class_names,\n",
    "                      figsize=(15, 15),\n",
    "                      text_size=10)"
   ]
  },
  {
   "cell_type": "markdown",
   "metadata": {
    "id": "tH3FhuGEjTu9"
   },
   "source": [
    "That looks much better! (one of my favourites sights in the world is a confusion matrix with dark squares down the diagonal)\n",
    "\n",
    "Except the results aren't as good as they could be...\n",
    "\n",
    "It looks like our model is getting confused between the `Shirt` and `T-shirt/top` classes (e.g. predicting `Shirt` when it's actually a `T-shirt/top`).\n",
    "\n",
    "> 🤔 **Question:** Does it make sense that our model is getting confused between the `Shirt` and `T-shirt/top` classes? Why do you think this might be? What's one way you could investigate?\n",
    "\n",
    "We've seen how our models predictions line up to the truth labels using a confusion matrix, but how about we visualize some?\n",
    "\n",
    "Let's create a function to plot a random image along with its prediction.\n",
    "\n",
    "> 🔑 **Note:** Often when working with images and other forms of visual data, it's a good idea to visualize as much as possible to develop a further understanding of the data and the outputs of your model."
   ]
  },
  {
   "cell_type": "code",
   "execution_count": null,
   "metadata": {
    "id": "2XIuAjgJri9e"
   },
   "outputs": [],
   "source": [
    "import random\n",
    "\n",
    "# Create a function for plotting a random image along with its prediction\n",
    "def plot_random_image(model, images, true_labels, classes):\n",
    "  \"\"\"Picks a random image, plots it and labels it with a predicted and truth label.\n",
    "\n",
    "  Args:\n",
    "    model: a trained model (trained on data similar to what's in images).\n",
    "    images: a set of random images (in tensor form).\n",
    "    true_labels: array of ground truth labels for images.\n",
    "    classes: array of class names for images.\n",
    "  \n",
    "  Returns:\n",
    "    A plot of a random image from `images` with a predicted class label from `model`\n",
    "    as well as the truth class label from `true_labels`.\n",
    "  \"\"\" \n",
    "  # Setup random integer\n",
    "  i = random.randint(0, len(images))\n",
    "  \n",
    "  # Create predictions and targets\n",
    "  target_image = images[i]\n",
    "  pred_probs = model.predict(target_image.reshape(1, 28, 28)) # have to reshape to get into right size for model\n",
    "  pred_label = classes[pred_probs.argmax()]\n",
    "  true_label = classes[true_labels[i]]\n",
    "\n",
    "  # Plot the target image\n",
    "  plt.imshow(target_image, cmap=plt.cm.binary)\n",
    "\n",
    "  # Change the color of the titles depending on if the prediction is right or wrong\n",
    "  if pred_label == true_label:\n",
    "    color = \"green\"\n",
    "  else:\n",
    "    color = \"red\"\n",
    "\n",
    "  # Add xlabel information (prediction/true label)\n",
    "  plt.xlabel(\"Pred: {} {:2.0f}% (True: {})\".format(pred_label,\n",
    "                                                   100*tf.reduce_max(pred_probs),\n",
    "                                                   true_label),\n",
    "             color=color) # set the color to green or red"
   ]
  },
  {
   "cell_type": "code",
   "execution_count": null,
   "metadata": {
    "colab": {
     "base_uri": "https://localhost:8080/",
     "height": 278
    },
    "id": "RAAIrpcEumyE",
    "outputId": "495af684-b06c-4189-ab02-eb8961ae9441"
   },
   "outputs": [],
   "source": [
    "# Check out a random image as well as its prediction\n",
    "plot_random_image(model=model_14, \n",
    "                  images=test_data, \n",
    "                  true_labels=test_labels, \n",
    "                  classes=class_names)"
   ]
  },
  {
   "cell_type": "markdown",
   "metadata": {
    "id": "FNebpPbCw52S"
   },
   "source": [
    "After running the cell above a few times you'll start to get a visual understanding of the relationship between the model's predictions and the true labels.\n",
    "\n",
    "Did you figure out which predictions the model gets confused on?\n",
    "\n",
    "It seems to mix up classes which are similar, for example, `Sneaker` with `Ankle boot`.\n",
    "\n",
    "Looking at the images, you can see how this might be the case.\n",
    "\n",
    "The overall shape of a `Sneaker` and an `Ankle Boot` are similar.\n",
    "\n",
    "The overall shape might be one of the patterns the model has learned and so therefore when two images have a similar shape, their predictions get mixed up."
   ]
  },
  {
   "cell_type": "markdown",
   "metadata": {
    "id": "pOwM1rqhx6p3"
   },
   "source": [
    "### What patterns is our model learning?\n",
    "\n",
    "We've been talking a lot about how a neural network finds patterns in numbers, but what exactly do these patterns look like?\n",
    "\n",
    "Let's crack open one of our models and find out.\n",
    "\n",
    "First, we'll get a list of layers in our most recent model (`model_14`) using the `layers` attribute."
   ]
  },
  {
   "cell_type": "code",
   "execution_count": null,
   "metadata": {
    "colab": {
     "base_uri": "https://localhost:8080/"
    },
    "id": "kcwMsgFuySTi",
    "outputId": "35f15df9-0109-4bb4-f225-694301a822ad"
   },
   "outputs": [],
   "source": [
    "# Find the layers of our most recent model\n",
    "model_14.layers"
   ]
  },
  {
   "cell_type": "markdown",
   "metadata": {
    "id": "w9si0o-h4oO1"
   },
   "source": [
    "We can access a target layer using indexing."
   ]
  },
  {
   "cell_type": "code",
   "execution_count": null,
   "metadata": {
    "colab": {
     "base_uri": "https://localhost:8080/"
    },
    "id": "DXuQmsNX1mGR",
    "outputId": "c1a64876-4a09-4351-a235-54a5ce06502b"
   },
   "outputs": [],
   "source": [
    "# Extract a particular layer\n",
    "model_14.layers[1]"
   ]
  },
  {
   "cell_type": "markdown",
   "metadata": {
    "id": "W6Cftaib4uG-"
   },
   "source": [
    "And we can find the patterns learned by a particular layer using the `get_weights()` method.\n",
    "\n",
    "The `get_weights()` method returns the **weights** (also known as a weights matrix) and biases (also known as a bias vector) of a particular layer."
   ]
  },
  {
   "cell_type": "code",
   "execution_count": null,
   "metadata": {
    "colab": {
     "base_uri": "https://localhost:8080/"
    },
    "id": "WdmZy5xi1srE",
    "outputId": "c2908716-30a3-479d-849a-24f74cd44a1a"
   },
   "outputs": [],
   "source": [
    "# Get the patterns of a layer in our network\n",
    "weights, biases = model_14.layers[1].get_weights()\n",
    "\n",
    "# Shape = 1 weight matrix the size of our input data (28x28) per neuron (4)\n",
    "weights, weights.shape"
   ]
  },
  {
   "cell_type": "markdown",
   "metadata": {
    "id": "yCjuNSD73oG0"
   },
   "source": [
    "The weights matrix is the same shape as the input data, which in our case is 784 (28x28 pixels). And there's a copy of the weights matrix for each neuron the in the selected layer (our selected layer has 4 neurons).\n",
    "\n",
    "Each value in the weights matrix corresponds to how a particular value in the input data influences the network's decisions.\n",
    "\n",
    "These values start out as random numbers (they're set by the [`kernel_initializer` parameter](https://www.tensorflow.org/api_docs/python/tf/keras/layers/Dense) when creating a layer, the default is [`\"glorot_uniform\"`](https://www.tensorflow.org/api_docs/python/tf/keras/initializers/GlorotUniform)) and are then updated to better representative values of the data (non-random) by the neural network during training.\n",
    "\n",
    "![neural network supervised learning weight updates](https://raw.githubusercontent.com/mrdbourke/tensorflow-deep-learning/main/images/02-fashion-mnist-learning.png)\n",
    "*Example workflow of how a supervised neural network starts with random weights and updates them to better represent the data by looking at examples of ideal outputs.*\n",
    "\n",
    "Now let's check out the bias vector."
   ]
  },
  {
   "cell_type": "code",
   "execution_count": null,
   "metadata": {
    "colab": {
     "base_uri": "https://localhost:8080/"
    },
    "id": "ndG-h2yz1z2_",
    "outputId": "da03bf48-5795-4baf-ac02-d642c5441cd8"
   },
   "outputs": [],
   "source": [
    "# Shape = 1 bias per neuron (we use 4 neurons in the first layer)\n",
    "biases, biases.shape"
   ]
  },
  {
   "cell_type": "markdown",
   "metadata": {
    "id": "3JRQFh3U374U"
   },
   "source": [
    "Every neuron has a bias vector. Each of these is paired with a weight matrix.\n",
    "\n",
    "The bias values get initialized as zeroes by default (using the [`bias_initializer` parameter](https://www.tensorflow.org/api_docs/python/tf/keras/layers/Dense)).\n",
    "\n",
    "The bias vector dictates how much the patterns within the corresponding weights matrix should influence the next layer."
   ]
  },
  {
   "cell_type": "code",
   "execution_count": null,
   "metadata": {
    "colab": {
     "base_uri": "https://localhost:8080/"
    },
    "id": "_QCUb7GeSGYF",
    "outputId": "7dc5a38f-6ffc-46f9-86c3-e0a6a19af4be"
   },
   "outputs": [],
   "source": [
    "# Can now calculate the number of paramters in our model\n",
    "model_14.summary()"
   ]
  },
  {
   "cell_type": "markdown",
   "metadata": {
    "id": "trRRZLIRyLXe"
   },
   "source": [
    "Now we've built a few deep learning models, it's a good time to point out the whole concept of inputs and outputs not only relates to a model as a whole but to *every* layer within a model.\n",
    "\n",
    "You might've already guessed this, but starting from the input layer, each subsequent layer's input is the output of the previous layer.\n",
    "\n",
    "We can see this clearly using the utility [`plot_model()`](https://www.tensorflow.org/api_docs/python/tf/keras/utils/plot_model)."
   ]
  },
  {
   "cell_type": "code",
   "execution_count": null,
   "metadata": {
    "colab": {
     "base_uri": "https://localhost:8080/",
     "height": 532
    },
    "id": "YJD0GqGl3NY0",
    "outputId": "185e911d-3d59-4cb7-c799-ef7ad7322d81"
   },
   "outputs": [],
   "source": [
    "from tensorflow.keras.utils import plot_model\n",
    "\n",
    "# See the inputs and outputs of each layer\n",
    "plot_model(model_14, show_shapes=True)"
   ]
  },
  {
   "cell_type": "markdown",
   "metadata": {
    "id": "OY5HO72ATJR4"
   },
   "source": [
    "## How a model learns (in brief)\n",
    "\n",
    "Alright, we've trained a bunch of models, but we've never really discussed what's going on under the hood. So how exactly does a model learn?\n",
    "\n",
    "A model learns by updating and improving its weight matrices and biases values every epoch (in our case, when we call the `fit()` fucntion).\n",
    "\n",
    "It does so by comparing the patterns its learned between the data and labels to the actual labels.\n",
    "\n",
    "If the current patterns (weight matrices and bias values) don't result in a desirable decrease in the loss function (higher loss means worse predictions), the optimizer tries to steer the model to update its patterns in the right way (using the real labels as a reference).\n",
    "\n",
    "This process of using the real labels as a reference to improve the model's predictions is called [**backpropagation**](https://en.wikipedia.org/wiki/Backpropagation).\n",
    "\n",
    "In other words, data and labels pass through a model (**forward pass**) and it attempts to learn the relationship between the data and labels. \n",
    "\n",
    "And if this learned relationship isn't close to the actual relationship or it could be improved, the model does so by going back through itself (**backward pass**) and tweaking its weights matrices and bias values to better represent the data.\n",
    "\n",
    "If all of this sounds confusing (and it's fine if it does, the above is a very succinct description), check out the resources in the extra-curriculum section for more."
   ]
  },
  {
   "cell_type": "markdown",
   "metadata": {
    "id": "LXmMG6fcpoIp"
   },
   "source": [
    "## Exercises 🛠\n",
    "\n",
    "1. Play with neural networks in the [TensorFlow Playground](https://playground.tensorflow.org/) for 10-minutes. Especially try different values of the learning, what happens when you decrease it? What happens when you increase it?\n",
    "2. Replicate the model pictured in the [TensorFlow Playground diagram](https://playground.tensorflow.org/#activation=relu&batchSize=10&dataset=circle&regDataset=reg-plane&learningRate=0.001&regularizationRate=0&noise=0&networkShape=6,6,6,6,6&seed=0.51287&showTestData=false&discretize=false&percTrainData=50&x=true&y=true&xTimesY=false&xSquared=false&ySquared=false&cosX=false&sinX=false&cosY=false&sinY=false&collectStats=false&problem=classification&initZero=false&hideText=false&regularization_hide=true&discretize_hide=true&regularizationRate_hide=true&percTrainData_hide=true&dataset_hide=true&problem_hide=true&noise_hide=true&batchSize_hide=true) below using TensorFlow code. Compile it using the Adam optimizer, binary crossentropy loss and accuracy metric. Once it's compiled check a summary of the model.\n",
    "![tensorflow playground example neural network](https://raw.githubusercontent.com/mrdbourke/tensorflow-deep-learning/main/images/02-tensorflow-playground-replication-exercise.png)\n",
    "*Try this network out for yourself on the [TensorFlow Playground website](https://playground.tensorflow.org/#activation=relu&batchSize=10&dataset=circle&regDataset=reg-plane&learningRate=0.001&regularizationRate=0&noise=0&networkShape=6,6,6,6,6&seed=0.51287&showTestData=false&discretize=false&percTrainData=50&x=true&y=true&xTimesY=false&xSquared=false&ySquared=false&cosX=false&sinX=false&cosY=false&sinY=false&collectStats=false&problem=classification&initZero=false&hideText=false&regularization_hide=true&discretize_hide=true&regularizationRate_hide=true&percTrainData_hide=true&dataset_hide=true&problem_hide=true&noise_hide=true&batchSize_hide=true). Hint: there are 5 hidden layers but the output layer isn't pictured, you'll have to decide what the output layer should be based on the input data.*\n",
    "3. Create a classification dataset using Scikit-Learn's [`make_moons()`](https://scikit-learn.org/stable/modules/generated/sklearn.datasets.make_moons.html) function, visualize it and then build a model to fit it at over 85% accuracy.\n",
    "4. Create a function (or write code) to visualize multiple image predictions for the fashion MNIST at the same time. Plot at least three different images and their prediciton labels at the same time. Hint: see the [classifcation tutorial in the TensorFlow documentation](https://www.tensorflow.org/tutorials/keras/classification) for ideas.\n",
    "5. Recreate [TensorFlow's](https://www.tensorflow.org/api_docs/python/tf/keras/activations/softmax) [softmax activation function](https://en.wikipedia.org/wiki/Softmax_function) in your own code. Make sure it can accept a tensor and return that tensor after having the softmax function applied to it.\n",
    "6. Train a model to get 88%+ accuracy on the fashion MNIST test set. Plot a confusion matrix to see the results after.\n",
    "7. Make a function to show an image of a certain class of the fashion MNIST dataset and make a prediction on it. For example, plot 3 images of the `T-shirt` class with their predictions.\n",
    "\n"
   ]
  },
  {
   "cell_type": "markdown",
   "metadata": {
    "id": "oksgPs-meGHj"
   },
   "source": [
    "## Extra curriculum 📖\n",
    "* Watch 3Blue1Brown's neural networks video 2: [*Gradient descent, how neural networks learn*](https://www.youtube.com/watch?v=IHZwWFHWa-w). After you're done, write 100 words about what you've learned.\n",
    "  * If you haven't already, watch video 1: [*But what is a Neural Network?*](https://youtu.be/aircAruvnKk). Note the activation function they talk about at the end.\n",
    "* Watch [MIT's introduction to deep learning lecture 1](https://youtu.be/njKP3FqW3Sk) (if you haven't already) to get an idea of the concepts behind using linear and non-linear functions.\n",
    "* Spend 1-hour reading [Michael Nielsen's Neural Networks and Deep Learning book](http://neuralnetworksanddeeplearning.com/index.html).\n",
    "* Read the [ML-Glossary documentation on activation functions](https://ml-cheatsheet.readthedocs.io/en/latest/activation_functions.html). Which one is your favourite?\n",
    "  * After you've read the ML-Glossary, see which activation functions are available in TensorFlow by searching \"tensorflow activation functions\"."
   ]
  }
 ],
 "metadata": {
  "colab": {
   "authorship_tag": "ABX9TyNUTzu+2p2O6unKdExkcTY3",
   "collapsed_sections": [],
   "include_colab_link": true,
   "name": "02_neural_network_classification_in_tensorflow.ipynb",
   "provenance": []
  },
  "kernelspec": {
   "display_name": "Python 3 (ipykernel)",
   "language": "python",
   "name": "python3"
  },
  "language_info": {
   "codemirror_mode": {
    "name": "ipython",
    "version": 3
   },
   "file_extension": ".py",
   "mimetype": "text/x-python",
   "name": "python",
   "nbconvert_exporter": "python",
   "pygments_lexer": "ipython3",
   "version": "3.10.5"
  }
 },
 "nbformat": 4,
 "nbformat_minor": 1
}
